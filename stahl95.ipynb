{
 "cells": [
  {
   "cell_type": "markdown",
   "metadata": {
    "deletable": true,
    "editable": true
   },
   "source": [
    "# Are choice frequencies the same across identical games?"
   ]
  },
  {
   "cell_type": "markdown",
   "metadata": {
    "deletable": true,
    "editable": true
   },
   "source": [
    "## Load packages"
   ]
  },
  {
   "cell_type": "code",
   "execution_count": 1,
   "metadata": {
    "collapsed": false,
    "deletable": true,
    "editable": true
   },
   "outputs": [
    {
     "name": "stderr",
     "output_type": "stream",
     "text": [
      "/usr/local/lib/python3.5/site-packages/rpy2/rinterface/__init__.py:186: RRuntimeWarning: Loading required package: XNomial\n",
      "\n",
      "  warnings.warn(x, RRuntimeWarning)\n"
     ]
    },
    {
     "data": {
      "text/plain": [
       "array([1], dtype=int32)"
      ]
     },
     "execution_count": 1,
     "metadata": {},
     "output_type": "execute_result"
    }
   ],
   "source": [
    "import numpy as np\n",
    "import pandas as pd\n",
    "%load_ext rpy2.ipython\n",
    "%R require(XNomial)"
   ]
  },
  {
   "cell_type": "markdown",
   "metadata": {
    "deletable": true,
    "editable": true
   },
   "source": [
    "## Import data"
   ]
  },
  {
   "cell_type": "code",
   "execution_count": 2,
   "metadata": {
    "collapsed": true,
    "deletable": true,
    "editable": true
   },
   "outputs": [],
   "source": [
    "df = pd.read_csv('stahl95.csv')\n",
    "keys = df['matrixrow'].unique()"
   ]
  },
  {
   "cell_type": "markdown",
   "metadata": {
    "deletable": true,
    "editable": true
   },
   "source": [
    "## Define functions"
   ]
  },
  {
   "cell_type": "code",
   "execution_count": 3,
   "metadata": {
    "collapsed": true,
    "deletable": true,
    "editable": true
   },
   "outputs": [],
   "source": [
    "def make_choices(j,k):\n",
    "    choices = np.zeros([3,j])\n",
    "    for i in range(j):\n",
    "        choices_ind = df[df['matrixrow'] == keys[k]]['choicerow'].index\n",
    "        choices_tmp = np.matrix(df[df['matrixrow'] == keys[k]]['choicerow'][choices_ind[i]])\n",
    "        choices[0,i] = choices_tmp[0,0]\n",
    "        choices[1,i] = choices_tmp[1,0]\n",
    "        choices[2,i] = choices_tmp[2,0]\n",
    "    return choices"
   ]
  },
  {
   "cell_type": "code",
   "execution_count": 4,
   "metadata": {
    "collapsed": false,
    "deletable": true,
    "editable": true
   },
   "outputs": [],
   "source": [
    "%%R\n",
    "test_multi = function(choices, i, j){\n",
    "observed = choices[,i]\n",
    "expected = choices[,j]\n",
    "library(XNomial)\n",
    "return(xmulti(observed, expected, detail = 2))\n",
    "}"
   ]
  },
  {
   "cell_type": "markdown",
   "metadata": {
    "deletable": true,
    "editable": true
   },
   "source": [
    "## Analyze game: \n",
    "<table>\n",
    "  <tr>\n",
    "    <td>T</td>\n",
    "    <td>25</td>\n",
    "    <td>30</td>\n",
    "    <td>100</td>\n",
    "  </tr>\n",
    "  <tr>\n",
    "    <td>M</td>\n",
    "    <td>40</td>\n",
    "    <td>45</td>\n",
    "    <td>65</td>\n",
    "  </tr>\n",
    "  <tr>\n",
    "    <td>B</td>\n",
    "    <td>31</td>\n",
    "    <td>0</td>\n",
    "    <td>40</td>\n",
    "  </tr>\n",
    "</table>"
   ]
  },
  {
   "cell_type": "code",
   "execution_count": 5,
   "metadata": {
    "collapsed": false,
    "deletable": true,
    "editable": true
   },
   "outputs": [
    {
     "data": {
      "text/html": [
       "<div>\n",
       "<table border=\"1\" class=\"dataframe\">\n",
       "  <thead>\n",
       "    <tr style=\"text-align: right;\">\n",
       "      <th></th>\n",
       "      <th>paper</th>\n",
       "      <th>game</th>\n",
       "      <th>matrixrow</th>\n",
       "      <th>matrixcol</th>\n",
       "      <th>choicerow</th>\n",
       "      <th>choicecol</th>\n",
       "      <th>shape</th>\n",
       "      <th>symmetric</th>\n",
       "      <th>subjects</th>\n",
       "      <th>unique</th>\n",
       "    </tr>\n",
       "  </thead>\n",
       "  <tbody>\n",
       "    <tr>\n",
       "      <th>0</th>\n",
       "      <td>stahlwilson1995</td>\n",
       "      <td>1</td>\n",
       "      <td>25 30 100; 40 45 65; 31 0 40</td>\n",
       "      <td>NaN</td>\n",
       "      <td>7 48; 40 48; 1 48</td>\n",
       "      <td>NaN</td>\n",
       "      <td>3 3</td>\n",
       "      <td>1</td>\n",
       "      <td>NaN</td>\n",
       "      <td>4</td>\n",
       "    </tr>\n",
       "    <tr>\n",
       "      <th>1</th>\n",
       "      <td>haruvyetal2001</td>\n",
       "      <td>1</td>\n",
       "      <td>25 30 100; 40 45 65; 31 0 40</td>\n",
       "      <td>NaN</td>\n",
       "      <td>25 58; 33 58; 0 58</td>\n",
       "      <td>NaN</td>\n",
       "      <td>3 3</td>\n",
       "      <td>1</td>\n",
       "      <td>NaN</td>\n",
       "      <td>4</td>\n",
       "    </tr>\n",
       "    <tr>\n",
       "      <th>2</th>\n",
       "      <td>haruvystahl2007</td>\n",
       "      <td>3</td>\n",
       "      <td>25 30 100; 40 45 65; 31 0 40</td>\n",
       "      <td>NaN</td>\n",
       "      <td>65 147; 76 147; 6 147</td>\n",
       "      <td>NaN</td>\n",
       "      <td>3 3</td>\n",
       "      <td>1</td>\n",
       "      <td>NaN</td>\n",
       "      <td>4</td>\n",
       "    </tr>\n",
       "    <tr>\n",
       "      <th>3</th>\n",
       "      <td>haruvystahl1998</td>\n",
       "      <td>3</td>\n",
       "      <td>25 30 100; 40 45 65; 31 0 40</td>\n",
       "      <td>NaN</td>\n",
       "      <td>20 47; 25 47; 2 47</td>\n",
       "      <td>NaN</td>\n",
       "      <td>3 3</td>\n",
       "      <td>1</td>\n",
       "      <td>NaN</td>\n",
       "      <td>4</td>\n",
       "    </tr>\n",
       "  </tbody>\n",
       "</table>\n",
       "</div>"
      ],
      "text/plain": [
       "             paper  game                     matrixrow  matrixcol  \\\n",
       "0  stahlwilson1995     1  25 30 100; 40 45 65; 31 0 40        NaN   \n",
       "1   haruvyetal2001     1  25 30 100; 40 45 65; 31 0 40        NaN   \n",
       "2  haruvystahl2007     3  25 30 100; 40 45 65; 31 0 40        NaN   \n",
       "3  haruvystahl1998     3  25 30 100; 40 45 65; 31 0 40        NaN   \n",
       "\n",
       "               choicerow  choicecol shape  symmetric  subjects  unique  \n",
       "0      7 48; 40 48; 1 48        NaN   3 3          1       NaN       4  \n",
       "1     25 58; 33 58; 0 58        NaN   3 3          1       NaN       4  \n",
       "2  65 147; 76 147; 6 147        NaN   3 3          1       NaN       4  \n",
       "3     20 47; 25 47; 2 47        NaN   3 3          1       NaN       4  "
      ]
     },
     "execution_count": 5,
     "metadata": {},
     "output_type": "execute_result"
    }
   ],
   "source": [
    "df[df['matrixrow'] == keys[0]]"
   ]
  },
  {
   "cell_type": "markdown",
   "metadata": {
    "deletable": true,
    "editable": true
   },
   "source": [
    "Note: cannot test game from Haruvy et al. 2001 as <b>choicerow</b> contains a '0' from ('25 58; 33 58; 0 58')."
   ]
  },
  {
   "cell_type": "code",
   "execution_count": 6,
   "metadata": {
    "collapsed": false,
    "deletable": true,
    "editable": true
   },
   "outputs": [],
   "source": [
    "choices = make_choices(4,0)"
   ]
  },
  {
   "cell_type": "markdown",
   "metadata": {
    "deletable": true,
    "editable": true
   },
   "source": [
    "### stahlwilson1995"
   ]
  },
  {
   "cell_type": "code",
   "execution_count": 7,
   "metadata": {
    "collapsed": false,
    "deletable": true,
    "editable": true
   },
   "outputs": [
    {
     "data": {
      "text/plain": [
       "\n",
       "P value  (LLR)  =  1.873e-05\n",
       "P value (Prob)  =  2.861e-05\n",
       "P value (Chisq) =  0.0007082"
      ]
     },
     "metadata": {},
     "output_type": "display_data"
    }
   ],
   "source": [
    "%%R -i choices\n",
    "test_multi(choices,1,3)"
   ]
  },
  {
   "cell_type": "code",
   "execution_count": 8,
   "metadata": {
    "collapsed": false,
    "deletable": true,
    "editable": true
   },
   "outputs": [
    {
     "data": {
      "text/plain": [
       "\n",
       "P value  (LLR)  =  4.469e-05\n",
       "P value (Prob)  =  8.838e-05\n",
       "P value (Chisq) =  0.0009918"
      ]
     },
     "metadata": {},
     "output_type": "display_data"
    }
   ],
   "source": [
    "%%R -i choices\n",
    "test_multi(choices,1,4)"
   ]
  },
  {
   "cell_type": "markdown",
   "metadata": {
    "deletable": true,
    "editable": true
   },
   "source": [
    "### haruvystahl2007"
   ]
  },
  {
   "cell_type": "code",
   "execution_count": 9,
   "metadata": {
    "collapsed": false,
    "deletable": true,
    "editable": true
   },
   "outputs": [
    {
     "data": {
      "text/plain": [
       "\n",
       "P value  (LLR)  =  2.205e-18\n",
       "P value (Prob)  =  1.707e-18\n",
       "P value (Chisq) =  1.528e-12"
      ]
     },
     "metadata": {},
     "output_type": "display_data"
    }
   ],
   "source": [
    "%%R -i choices\n",
    "test_multi(choices,3,1)"
   ]
  },
  {
   "cell_type": "code",
   "execution_count": 10,
   "metadata": {
    "collapsed": false,
    "deletable": true,
    "editable": true
   },
   "outputs": [
    {
     "data": {
      "text/plain": [
       "\n",
       "P value  (LLR)  =  0.9274\n",
       "P value (Prob)  =  0.9258\n",
       "P value (Chisq) =  0.9274"
      ]
     },
     "metadata": {},
     "output_type": "display_data"
    }
   ],
   "source": [
    "%%R -i choices\n",
    "test_multi(choices,3,4)"
   ]
  },
  {
   "cell_type": "markdown",
   "metadata": {
    "deletable": true,
    "editable": true
   },
   "source": [
    "### haruvystahl1998"
   ]
  },
  {
   "cell_type": "code",
   "execution_count": 11,
   "metadata": {
    "collapsed": false,
    "deletable": true,
    "editable": true
   },
   "outputs": [
    {
     "data": {
      "text/plain": [
       "\n",
       "P value  (LLR)  =  3.949e-06\n",
       "P value (Prob)  =  2.92e-06\n",
       "P value (Chisq) =  5.901e-05"
      ]
     },
     "metadata": {},
     "output_type": "display_data"
    }
   ],
   "source": [
    "%%R -i choices\n",
    "test_multi(choices,4,1)"
   ]
  },
  {
   "cell_type": "code",
   "execution_count": 12,
   "metadata": {
    "collapsed": false,
    "deletable": true,
    "editable": true
   },
   "outputs": [
    {
     "data": {
      "text/plain": [
       "\n",
       "P value  (LLR)  =  0.9674\n",
       "P value (Prob)  =  0.9022\n",
       "P value (Chisq) =  0.9674"
      ]
     },
     "metadata": {},
     "output_type": "display_data"
    }
   ],
   "source": [
    "%%R -i choices\n",
    "test_multi(choices,4,3)"
   ]
  },
  {
   "cell_type": "markdown",
   "metadata": {
    "deletable": true,
    "editable": true
   },
   "source": [
    "## Analyze game: \n",
    "<table>\n",
    "  <tr>\n",
    "    <td>T</td>\n",
    "    <td>75</td>\n",
    "    <td>40</td>\n",
    "    <td>45</td>\n",
    "  </tr>\n",
    "  <tr>\n",
    "    <td>M</td>\n",
    "    <td>70</td>\n",
    "    <td>15</td>\n",
    "    <td>100</td>\n",
    "  </tr>\n",
    "  <tr>\n",
    "    <td>B</td>\n",
    "    <td>70</td>\n",
    "    <td>60</td>\n",
    "    <td>0</td>\n",
    "  </tr>\n",
    "</table>"
   ]
  },
  {
   "cell_type": "code",
   "execution_count": 13,
   "metadata": {
    "collapsed": false,
    "deletable": true,
    "editable": true
   },
   "outputs": [
    {
     "data": {
      "text/html": [
       "<div>\n",
       "<table border=\"1\" class=\"dataframe\">\n",
       "  <thead>\n",
       "    <tr style=\"text-align: right;\">\n",
       "      <th></th>\n",
       "      <th>paper</th>\n",
       "      <th>game</th>\n",
       "      <th>matrixrow</th>\n",
       "      <th>matrixcol</th>\n",
       "      <th>choicerow</th>\n",
       "      <th>choicecol</th>\n",
       "      <th>shape</th>\n",
       "      <th>symmetric</th>\n",
       "      <th>subjects</th>\n",
       "      <th>unique</th>\n",
       "    </tr>\n",
       "  </thead>\n",
       "  <tbody>\n",
       "    <tr>\n",
       "      <th>4</th>\n",
       "      <td>stahlwilson1995</td>\n",
       "      <td>2</td>\n",
       "      <td>75 40 45; 70 15 100; 70 60 0</td>\n",
       "      <td>NaN</td>\n",
       "      <td>30 48; 12 48; 6 48</td>\n",
       "      <td>NaN</td>\n",
       "      <td>3 3</td>\n",
       "      <td>1</td>\n",
       "      <td>NaN</td>\n",
       "      <td>4</td>\n",
       "    </tr>\n",
       "    <tr>\n",
       "      <th>5</th>\n",
       "      <td>haruvyetal2001</td>\n",
       "      <td>2</td>\n",
       "      <td>75 40 45; 70 15 100; 70 60 0</td>\n",
       "      <td>NaN</td>\n",
       "      <td>15 58; 31 58; 12 58</td>\n",
       "      <td>NaN</td>\n",
       "      <td>3 3</td>\n",
       "      <td>1</td>\n",
       "      <td>NaN</td>\n",
       "      <td>4</td>\n",
       "    </tr>\n",
       "    <tr>\n",
       "      <th>6</th>\n",
       "      <td>haruvystahl2007</td>\n",
       "      <td>15</td>\n",
       "      <td>75 40 45; 70 15 100; 70 60 0</td>\n",
       "      <td>NaN</td>\n",
       "      <td>43 147; 77 147; 27 147</td>\n",
       "      <td>NaN</td>\n",
       "      <td>3 3</td>\n",
       "      <td>1</td>\n",
       "      <td>NaN</td>\n",
       "      <td>4</td>\n",
       "    </tr>\n",
       "    <tr>\n",
       "      <th>7</th>\n",
       "      <td>haruvystahl1998</td>\n",
       "      <td>15</td>\n",
       "      <td>75 40 45; 70 15 100; 70 60 0</td>\n",
       "      <td>NaN</td>\n",
       "      <td>9 47; 29 47; 9 47</td>\n",
       "      <td>NaN</td>\n",
       "      <td>3 3</td>\n",
       "      <td>1</td>\n",
       "      <td>NaN</td>\n",
       "      <td>4</td>\n",
       "    </tr>\n",
       "  </tbody>\n",
       "</table>\n",
       "</div>"
      ],
      "text/plain": [
       "             paper  game                     matrixrow  matrixcol  \\\n",
       "4  stahlwilson1995     2  75 40 45; 70 15 100; 70 60 0        NaN   \n",
       "5   haruvyetal2001     2  75 40 45; 70 15 100; 70 60 0        NaN   \n",
       "6  haruvystahl2007    15  75 40 45; 70 15 100; 70 60 0        NaN   \n",
       "7  haruvystahl1998    15  75 40 45; 70 15 100; 70 60 0        NaN   \n",
       "\n",
       "                choicerow  choicecol shape  symmetric  subjects  unique  \n",
       "4      30 48; 12 48; 6 48        NaN   3 3          1       NaN       4  \n",
       "5     15 58; 31 58; 12 58        NaN   3 3          1       NaN       4  \n",
       "6  43 147; 77 147; 27 147        NaN   3 3          1       NaN       4  \n",
       "7       9 47; 29 47; 9 47        NaN   3 3          1       NaN       4  "
      ]
     },
     "execution_count": 13,
     "metadata": {},
     "output_type": "execute_result"
    }
   ],
   "source": [
    "df[df['matrixrow'] == keys[1]]"
   ]
  },
  {
   "cell_type": "code",
   "execution_count": 14,
   "metadata": {
    "collapsed": false,
    "deletable": true,
    "editable": true
   },
   "outputs": [],
   "source": [
    "choices = make_choices(4,1)"
   ]
  },
  {
   "cell_type": "markdown",
   "metadata": {
    "deletable": true,
    "editable": true
   },
   "source": [
    "### stahlwilson1995"
   ]
  },
  {
   "cell_type": "code",
   "execution_count": 15,
   "metadata": {
    "collapsed": false,
    "deletable": true,
    "editable": true
   },
   "outputs": [
    {
     "data": {
      "text/plain": [
       "\n",
       "P value  (LLR)  =  1.185e-06\n",
       "P value (Prob)  =  4.198e-07\n",
       "P value (Chisq) =  2.364e-07"
      ]
     },
     "metadata": {},
     "output_type": "display_data"
    }
   ],
   "source": [
    "%%R -i choices\n",
    "test_multi(choices,1,2)"
   ]
  },
  {
   "cell_type": "code",
   "execution_count": 16,
   "metadata": {
    "collapsed": false,
    "deletable": true,
    "editable": true
   },
   "outputs": [
    {
     "data": {
      "text/plain": [
       "\n",
       "P value  (LLR)  =  1.339e-05\n",
       "P value (Prob)  =  7.652e-06\n",
       "P value (Chisq) =  5.546e-06"
      ]
     },
     "metadata": {},
     "output_type": "display_data"
    }
   ],
   "source": [
    "%%R -i choices\n",
    "test_multi(choices,1,3)"
   ]
  },
  {
   "cell_type": "code",
   "execution_count": 17,
   "metadata": {
    "collapsed": false,
    "deletable": true,
    "editable": true
   },
   "outputs": [
    {
     "data": {
      "text/plain": [
       "\n",
       "P value  (LLR)  =  2.35e-10\n",
       "P value (Prob)  =  1.105e-10\n",
       "P value (Chisq) =  5.293e-11"
      ]
     },
     "metadata": {},
     "output_type": "display_data"
    }
   ],
   "source": [
    "%%R -i choices\n",
    "test_multi(choices,1,4)"
   ]
  },
  {
   "cell_type": "markdown",
   "metadata": {
    "deletable": true,
    "editable": true
   },
   "source": [
    "### haruvyetal2001"
   ]
  },
  {
   "cell_type": "code",
   "execution_count": 18,
   "metadata": {
    "collapsed": false,
    "deletable": true,
    "editable": true
   },
   "outputs": [
    {
     "data": {
      "text/plain": [
       "\n",
       "P value  (LLR)  =  1.348e-07\n",
       "P value (Prob)  =  3.786e-08\n",
       "P value (Chisq) =  8.079e-07"
      ]
     },
     "metadata": {},
     "output_type": "display_data"
    }
   ],
   "source": [
    "%%R -i choices\n",
    "test_multi(choices,2,1)"
   ]
  },
  {
   "cell_type": "code",
   "execution_count": 19,
   "metadata": {
    "collapsed": false,
    "deletable": true,
    "editable": true
   },
   "outputs": [
    {
     "data": {
      "text/plain": [
       "\n",
       "P value  (LLR)  =  0.8233\n",
       "P value (Prob)  =  0.7969\n",
       "P value (Chisq) =  0.8233"
      ]
     },
     "metadata": {},
     "output_type": "display_data"
    }
   ],
   "source": [
    "%%R -i choices\n",
    "test_multi(choices,2,3)"
   ]
  },
  {
   "cell_type": "code",
   "execution_count": 20,
   "metadata": {
    "collapsed": false,
    "deletable": true,
    "editable": true
   },
   "outputs": [
    {
     "data": {
      "text/plain": [
       "\n",
       "P value  (LLR)  =  0.3981\n",
       "P value (Prob)  =  0.3165\n",
       "P value (Chisq) =  0.3408"
      ]
     },
     "metadata": {},
     "output_type": "display_data"
    }
   ],
   "source": [
    "%%R -i choices\n",
    "test_multi(choices,2,4)"
   ]
  },
  {
   "cell_type": "markdown",
   "metadata": {
    "deletable": true,
    "editable": true
   },
   "source": [
    "### haruvystahl2007"
   ]
  },
  {
   "cell_type": "code",
   "execution_count": 21,
   "metadata": {
    "collapsed": false,
    "deletable": true,
    "editable": true
   },
   "outputs": [
    {
     "data": {
      "text/plain": [
       "\n",
       "P value  (LLR)  =  8.498e-16\n",
       "P value (Prob)  =  4.52e-16\n",
       "P value (Chisq) =  2.619e-13"
      ]
     },
     "metadata": {},
     "output_type": "display_data"
    }
   ],
   "source": [
    "%%R -i choices\n",
    "test_multi(choices,3,1)"
   ]
  },
  {
   "cell_type": "code",
   "execution_count": 22,
   "metadata": {
    "collapsed": false,
    "deletable": true,
    "editable": true
   },
   "outputs": [
    {
     "data": {
      "text/plain": [
       "\n",
       "P value  (LLR)  =  0.5965\n",
       "P value (Prob)  =  0.5809\n",
       "P value (Chisq) =  0.5848"
      ]
     },
     "metadata": {},
     "output_type": "display_data"
    }
   ],
   "source": [
    "%%R -i choices\n",
    "test_multi(choices,3,2)"
   ]
  },
  {
   "cell_type": "code",
   "execution_count": 23,
   "metadata": {
    "collapsed": false,
    "deletable": true,
    "editable": true
   },
   "outputs": [
    {
     "data": {
      "text/plain": [
       "\n",
       "P value  (LLR)  =  0.01134\n",
       "P value (Prob)  =  0.009588\n",
       "P value (Chisq) =  0.007037"
      ]
     },
     "metadata": {},
     "output_type": "display_data"
    }
   ],
   "source": [
    "%%R -i choices\n",
    "test_multi(choices,3,4)"
   ]
  },
  {
   "cell_type": "markdown",
   "metadata": {
    "deletable": true,
    "editable": true
   },
   "source": [
    "### haruvystahl1998"
   ]
  },
  {
   "cell_type": "code",
   "execution_count": 24,
   "metadata": {
    "collapsed": false,
    "deletable": true,
    "editable": true
   },
   "outputs": [
    {
     "data": {
      "text/plain": [
       "\n",
       "P value  (LLR)  =  2.523e-09\n",
       "P value (Prob)  =  1.496e-09\n",
       "P value (Chisq) =  6.939e-08"
      ]
     },
     "metadata": {},
     "output_type": "display_data"
    }
   ],
   "source": [
    "%%R -i choices\n",
    "test_multi(choices,4,1)"
   ]
  },
  {
   "cell_type": "code",
   "execution_count": 25,
   "metadata": {
    "collapsed": false,
    "deletable": true,
    "editable": true
   },
   "outputs": [
    {
     "data": {
      "text/plain": [
       "\n",
       "P value  (LLR)  =  0.4631\n",
       "P value (Prob)  =  0.518\n",
       "P value (Chisq) =  0.4988"
      ]
     },
     "metadata": {},
     "output_type": "display_data"
    }
   ],
   "source": [
    "%%R -i choices\n",
    "test_multi(choices,4,2)"
   ]
  },
  {
   "cell_type": "code",
   "execution_count": 26,
   "metadata": {
    "collapsed": false,
    "deletable": true,
    "editable": true
   },
   "outputs": [
    {
     "data": {
      "text/plain": [
       "\n",
       "P value  (LLR)  =  0.2702\n",
       "P value (Prob)  =  0.2918\n",
       "P value (Chisq) =  0.2989"
      ]
     },
     "metadata": {},
     "output_type": "display_data"
    }
   ],
   "source": [
    "%%R -i choices\n",
    "test_multi(choices,4,3)"
   ]
  },
  {
   "cell_type": "markdown",
   "metadata": {
    "deletable": true,
    "editable": true
   },
   "source": [
    "## Analyze game: \n",
    "<table>\n",
    "  <tr>\n",
    "    <td>T</td>\n",
    "    <td>30</td>\n",
    "    <td>50</td>\n",
    "    <td>100</td>\n",
    "  </tr>\n",
    "  <tr>\n",
    "    <td>M</td>\n",
    "    <td>40</td>\n",
    "    <td>45</td>\n",
    "    <td>10</td>\n",
    "  </tr>\n",
    "  <tr>\n",
    "    <td>B</td>\n",
    "    <td>35</td>\n",
    "    <td>60</td>\n",
    "    <td>0</td>\n",
    "  </tr>\n",
    "</table>"
   ]
  },
  {
   "cell_type": "code",
   "execution_count": 27,
   "metadata": {
    "collapsed": false,
    "deletable": true,
    "editable": true
   },
   "outputs": [
    {
     "data": {
      "text/html": [
       "<div>\n",
       "<table border=\"1\" class=\"dataframe\">\n",
       "  <thead>\n",
       "    <tr style=\"text-align: right;\">\n",
       "      <th></th>\n",
       "      <th>paper</th>\n",
       "      <th>game</th>\n",
       "      <th>matrixrow</th>\n",
       "      <th>matrixcol</th>\n",
       "      <th>choicerow</th>\n",
       "      <th>choicecol</th>\n",
       "      <th>shape</th>\n",
       "      <th>symmetric</th>\n",
       "      <th>subjects</th>\n",
       "      <th>unique</th>\n",
       "    </tr>\n",
       "  </thead>\n",
       "  <tbody>\n",
       "    <tr>\n",
       "      <th>8</th>\n",
       "      <td>stahlwilson1995</td>\n",
       "      <td>4</td>\n",
       "      <td>30 50 100; 40 45 10; 35 60 0</td>\n",
       "      <td>NaN</td>\n",
       "      <td>26 48; 15 48; 7 48</td>\n",
       "      <td>NaN</td>\n",
       "      <td>3 3</td>\n",
       "      <td>1</td>\n",
       "      <td>NaN</td>\n",
       "      <td>5</td>\n",
       "    </tr>\n",
       "    <tr>\n",
       "      <th>9</th>\n",
       "      <td>haruvyetal2001</td>\n",
       "      <td>5</td>\n",
       "      <td>30 50 100; 40 45 10; 35 60 0</td>\n",
       "      <td>NaN</td>\n",
       "      <td>45 58; 10 58; 3 58</td>\n",
       "      <td>NaN</td>\n",
       "      <td>3 3</td>\n",
       "      <td>1</td>\n",
       "      <td>NaN</td>\n",
       "      <td>5</td>\n",
       "    </tr>\n",
       "    <tr>\n",
       "      <th>10</th>\n",
       "      <td>haruvystahl2007</td>\n",
       "      <td>9</td>\n",
       "      <td>30 50 100; 40 45 10; 35 60 0</td>\n",
       "      <td>NaN</td>\n",
       "      <td>120 147; 19 147; 8 147</td>\n",
       "      <td>NaN</td>\n",
       "      <td>3 3</td>\n",
       "      <td>1</td>\n",
       "      <td>NaN</td>\n",
       "      <td>5</td>\n",
       "    </tr>\n",
       "    <tr>\n",
       "      <th>11</th>\n",
       "      <td>stahlharuvy2008</td>\n",
       "      <td>3</td>\n",
       "      <td>30 50 100; 40 45 10; 35 60 0</td>\n",
       "      <td>NaN</td>\n",
       "      <td>64 75; 8 75; 3 75</td>\n",
       "      <td>NaN</td>\n",
       "      <td>3 3</td>\n",
       "      <td>1</td>\n",
       "      <td>NaN</td>\n",
       "      <td>5</td>\n",
       "    </tr>\n",
       "    <tr>\n",
       "      <th>12</th>\n",
       "      <td>haruvystahl1998</td>\n",
       "      <td>9</td>\n",
       "      <td>30 50 100; 40 45 10; 35 60 0</td>\n",
       "      <td>NaN</td>\n",
       "      <td>38 47; 9 47; 0 47</td>\n",
       "      <td>NaN</td>\n",
       "      <td>3 3</td>\n",
       "      <td>1</td>\n",
       "      <td>NaN</td>\n",
       "      <td>5</td>\n",
       "    </tr>\n",
       "  </tbody>\n",
       "</table>\n",
       "</div>"
      ],
      "text/plain": [
       "              paper  game                     matrixrow  matrixcol  \\\n",
       "8   stahlwilson1995     4  30 50 100; 40 45 10; 35 60 0        NaN   \n",
       "9    haruvyetal2001     5  30 50 100; 40 45 10; 35 60 0        NaN   \n",
       "10  haruvystahl2007     9  30 50 100; 40 45 10; 35 60 0        NaN   \n",
       "11  stahlharuvy2008     3  30 50 100; 40 45 10; 35 60 0        NaN   \n",
       "12  haruvystahl1998     9  30 50 100; 40 45 10; 35 60 0        NaN   \n",
       "\n",
       "                 choicerow  choicecol shape  symmetric  subjects  unique  \n",
       "8       26 48; 15 48; 7 48        NaN   3 3          1       NaN       5  \n",
       "9       45 58; 10 58; 3 58        NaN   3 3          1       NaN       5  \n",
       "10  120 147; 19 147; 8 147        NaN   3 3          1       NaN       5  \n",
       "11       64 75; 8 75; 3 75        NaN   3 3          1       NaN       5  \n",
       "12       38 47; 9 47; 0 47        NaN   3 3          1       NaN       5  "
      ]
     },
     "execution_count": 27,
     "metadata": {},
     "output_type": "execute_result"
    }
   ],
   "source": [
    "df[df['matrixrow'] == keys[2]]"
   ]
  },
  {
   "cell_type": "markdown",
   "metadata": {
    "deletable": true,
    "editable": true
   },
   "source": [
    "Note: cannot test game from Haruvy Stahl 1998 as <b>choicerow</b> contains a '0' from ('38 47; 9 47; 0 47')."
   ]
  },
  {
   "cell_type": "code",
   "execution_count": 28,
   "metadata": {
    "collapsed": true,
    "deletable": true,
    "editable": true
   },
   "outputs": [],
   "source": [
    "choices = make_choices(4,2)"
   ]
  },
  {
   "cell_type": "markdown",
   "metadata": {
    "deletable": true,
    "editable": true
   },
   "source": [
    "### stahlwilson1995"
   ]
  },
  {
   "cell_type": "code",
   "execution_count": 29,
   "metadata": {
    "collapsed": false,
    "deletable": true,
    "editable": true
   },
   "outputs": [
    {
     "data": {
      "text/plain": [
       "\n",
       "P value  (LLR)  =  0.001077\n",
       "P value (Prob)  =  0.0004242\n",
       "P value (Chisq) =  0.0009926"
      ]
     },
     "metadata": {},
     "output_type": "display_data"
    }
   ],
   "source": [
    "%%R -i choices\n",
    "test_multi(choices,1,2)"
   ]
  },
  {
   "cell_type": "code",
   "execution_count": 30,
   "metadata": {
    "collapsed": false,
    "deletable": true,
    "editable": true
   },
   "outputs": [
    {
     "data": {
      "text/plain": [
       "\n",
       "P value  (LLR)  =  0.0001121\n",
       "P value (Prob)  =  2.459e-05\n",
       "P value (Chisq) =  8.525e-05"
      ]
     },
     "metadata": {},
     "output_type": "display_data"
    }
   ],
   "source": [
    "%%R -i choices\n",
    "test_multi(choices,1,3)"
   ]
  },
  {
   "cell_type": "code",
   "execution_count": 31,
   "metadata": {
    "collapsed": false,
    "deletable": true,
    "editable": true
   },
   "outputs": [
    {
     "data": {
      "text/plain": [
       "\n",
       "P value  (LLR)  =  7.547e-07\n",
       "P value (Prob)  =  3.867e-07\n",
       "P value (Chisq) =  3.745e-06"
      ]
     },
     "metadata": {},
     "output_type": "display_data"
    }
   ],
   "source": [
    "%%R -i choices\n",
    "test_multi(choices,1,4)"
   ]
  },
  {
   "cell_type": "markdown",
   "metadata": {
    "deletable": true,
    "editable": true
   },
   "source": [
    "### haruvyetal2001"
   ]
  },
  {
   "cell_type": "code",
   "execution_count": 32,
   "metadata": {
    "collapsed": false,
    "deletable": true,
    "editable": true
   },
   "outputs": [
    {
     "data": {
      "text/plain": [
       "\n",
       "P value  (LLR)  =  0.000968\n",
       "P value (Prob)  =  0.001278\n",
       "P value (Chisq) =  0.001656"
      ]
     },
     "metadata": {},
     "output_type": "display_data"
    }
   ],
   "source": [
    "%%R -i choices\n",
    "test_multi(choices,2,1)"
   ]
  },
  {
   "cell_type": "code",
   "execution_count": 33,
   "metadata": {
    "collapsed": false,
    "deletable": true,
    "editable": true
   },
   "outputs": [
    {
     "data": {
      "text/plain": [
       "\n",
       "P value  (LLR)  =  0.6751\n",
       "P value (Prob)  =  0.6\n",
       "P value (Chisq) =  0.6461"
      ]
     },
     "metadata": {},
     "output_type": "display_data"
    }
   ],
   "source": [
    "%%R -i choices\n",
    "test_multi(choices,2,3)"
   ]
  },
  {
   "cell_type": "code",
   "execution_count": 34,
   "metadata": {
    "collapsed": false,
    "deletable": true,
    "editable": true
   },
   "outputs": [
    {
     "data": {
      "text/plain": [
       "\n",
       "P value  (LLR)  =  0.2877\n",
       "P value (Prob)  =  0.1748\n",
       "P value (Chisq) =  0.2153"
      ]
     },
     "metadata": {},
     "output_type": "display_data"
    }
   ],
   "source": [
    "%%R -i choices\n",
    "test_multi(choices,2,4)"
   ]
  },
  {
   "cell_type": "markdown",
   "metadata": {
    "deletable": true,
    "editable": true
   },
   "source": [
    "### haruvystahl2007"
   ]
  },
  {
   "cell_type": "code",
   "execution_count": 35,
   "metadata": {
    "collapsed": false,
    "deletable": true,
    "editable": true
   },
   "outputs": [
    {
     "data": {
      "text/plain": [
       "\n",
       "P value  (LLR)  =  3.074e-11\n",
       "P value (Prob)  =  3.504e-11\n",
       "P value (Chisq) =  3.01e-09"
      ]
     },
     "metadata": {},
     "output_type": "display_data"
    }
   ],
   "source": [
    "%%R -i choices\n",
    "test_multi(choices,3,1)"
   ]
  },
  {
   "cell_type": "code",
   "execution_count": 36,
   "metadata": {
    "collapsed": false,
    "deletable": true,
    "editable": true
   },
   "outputs": [
    {
     "data": {
      "text/plain": [
       "\n",
       "P value  (LLR)  =  0.3775\n",
       "P value (Prob)  =  0.3751\n",
       "P value (Chisq) =  0.3866"
      ]
     },
     "metadata": {},
     "output_type": "display_data"
    }
   ],
   "source": [
    "%%R -i choices\n",
    "test_multi(choices,3,2)"
   ]
  },
  {
   "cell_type": "code",
   "execution_count": 37,
   "metadata": {
    "collapsed": false,
    "deletable": true,
    "editable": true
   },
   "outputs": [
    {
     "data": {
      "text/plain": [
       "\n",
       "P value  (LLR)  =  0.4782\n",
       "P value (Prob)  =  0.3491\n",
       "P value (Chisq) =  0.447"
      ]
     },
     "metadata": {},
     "output_type": "display_data"
    }
   ],
   "source": [
    "%%R -i choices\n",
    "test_multi(choices,3,4)"
   ]
  },
  {
   "cell_type": "markdown",
   "metadata": {
    "deletable": true,
    "editable": true
   },
   "source": [
    "### stahlharuvy2008\t"
   ]
  },
  {
   "cell_type": "code",
   "execution_count": 38,
   "metadata": {
    "collapsed": false,
    "deletable": true,
    "editable": true
   },
   "outputs": [
    {
     "data": {
      "text/plain": [
       "\n",
       "P value  (LLR)  =  7.248e-08\n",
       "P value (Prob)  =  1.12e-07\n",
       "P value (Chisq) =  1.681e-06"
      ]
     },
     "metadata": {},
     "output_type": "display_data"
    }
   ],
   "source": [
    "%%R -i choices\n",
    "test_multi(choices,4,1)"
   ]
  },
  {
   "cell_type": "code",
   "execution_count": 39,
   "metadata": {
    "collapsed": false,
    "deletable": true,
    "editable": true
   },
   "outputs": [
    {
     "data": {
      "text/plain": [
       "\n",
       "P value  (LLR)  =  0.2616\n",
       "P value (Prob)  =  0.2979\n",
       "P value (Chisq) =  0.2713"
      ]
     },
     "metadata": {},
     "output_type": "display_data"
    }
   ],
   "source": [
    "%%R -i choices\n",
    "test_multi(choices,4,2)"
   ]
  },
  {
   "cell_type": "code",
   "execution_count": 40,
   "metadata": {
    "collapsed": false,
    "deletable": true,
    "editable": true
   },
   "outputs": [
    {
     "data": {
      "text/plain": [
       "\n",
       "P value  (LLR)  =  0.7188\n",
       "P value (Prob)  =  0.8218\n",
       "P value (Chisq) =  0.7188"
      ]
     },
     "metadata": {},
     "output_type": "display_data"
    }
   ],
   "source": [
    "%%R -i choices\n",
    "test_multi(choices,4,3)"
   ]
  },
  {
   "cell_type": "markdown",
   "metadata": {
    "deletable": true,
    "editable": true
   },
   "source": [
    "## Analyze game: \n",
    "<table>\n",
    "  <tr>\n",
    "    <td>T</td>\n",
    "    <td>25</td>\n",
    "    <td>30</td>\n",
    "    <td>100</td>\n",
    "  </tr>\n",
    "  <tr>\n",
    "    <td>M</td>\n",
    "    <td>60</td>\n",
    "    <td>31</td>\n",
    "    <td>51</td>\n",
    "  </tr>\n",
    "  <tr>\n",
    "    <td>B</td>\n",
    "    <td>95</td>\n",
    "    <td>30</td>\n",
    "    <td>0</td>\n",
    "  </tr>\n",
    "</table>"
   ]
  },
  {
   "cell_type": "code",
   "execution_count": 41,
   "metadata": {
    "collapsed": false,
    "deletable": true,
    "editable": true
   },
   "outputs": [
    {
     "data": {
      "text/html": [
       "<div>\n",
       "<table border=\"1\" class=\"dataframe\">\n",
       "  <thead>\n",
       "    <tr style=\"text-align: right;\">\n",
       "      <th></th>\n",
       "      <th>paper</th>\n",
       "      <th>game</th>\n",
       "      <th>matrixrow</th>\n",
       "      <th>matrixcol</th>\n",
       "      <th>choicerow</th>\n",
       "      <th>choicecol</th>\n",
       "      <th>shape</th>\n",
       "      <th>symmetric</th>\n",
       "      <th>subjects</th>\n",
       "      <th>unique</th>\n",
       "    </tr>\n",
       "  </thead>\n",
       "  <tbody>\n",
       "    <tr>\n",
       "      <th>13</th>\n",
       "      <td>stahlwilson1995</td>\n",
       "      <td>6</td>\n",
       "      <td>25 30 100; 60 31 51; 95 30 0</td>\n",
       "      <td>NaN</td>\n",
       "      <td>11 48; 20 48; 17 48</td>\n",
       "      <td>NaN</td>\n",
       "      <td>3 3</td>\n",
       "      <td>1</td>\n",
       "      <td>NaN</td>\n",
       "      <td>4</td>\n",
       "    </tr>\n",
       "    <tr>\n",
       "      <th>14</th>\n",
       "      <td>haruvyetal2001</td>\n",
       "      <td>7</td>\n",
       "      <td>25 30 100; 60 31 51; 95 30 0</td>\n",
       "      <td>NaN</td>\n",
       "      <td>31 58; 8 58; 19 58</td>\n",
       "      <td>NaN</td>\n",
       "      <td>3 3</td>\n",
       "      <td>1</td>\n",
       "      <td>NaN</td>\n",
       "      <td>4</td>\n",
       "    </tr>\n",
       "    <tr>\n",
       "      <th>15</th>\n",
       "      <td>haruvystahl2007</td>\n",
       "      <td>18</td>\n",
       "      <td>25 30 100; 60 31 51; 95 30 0</td>\n",
       "      <td>NaN</td>\n",
       "      <td>72 147; 28 147; 47 147</td>\n",
       "      <td>NaN</td>\n",
       "      <td>3 3</td>\n",
       "      <td>1</td>\n",
       "      <td>NaN</td>\n",
       "      <td>4</td>\n",
       "    </tr>\n",
       "    <tr>\n",
       "      <th>16</th>\n",
       "      <td>haruvystahl1998</td>\n",
       "      <td>18</td>\n",
       "      <td>25 30 100; 60 31 51; 95 30 0</td>\n",
       "      <td>NaN</td>\n",
       "      <td>25 47; 14 47; 8 47</td>\n",
       "      <td>NaN</td>\n",
       "      <td>3 3</td>\n",
       "      <td>1</td>\n",
       "      <td>NaN</td>\n",
       "      <td>4</td>\n",
       "    </tr>\n",
       "  </tbody>\n",
       "</table>\n",
       "</div>"
      ],
      "text/plain": [
       "              paper  game                     matrixrow  matrixcol  \\\n",
       "13  stahlwilson1995     6  25 30 100; 60 31 51; 95 30 0        NaN   \n",
       "14   haruvyetal2001     7  25 30 100; 60 31 51; 95 30 0        NaN   \n",
       "15  haruvystahl2007    18  25 30 100; 60 31 51; 95 30 0        NaN   \n",
       "16  haruvystahl1998    18  25 30 100; 60 31 51; 95 30 0        NaN   \n",
       "\n",
       "                 choicerow  choicecol shape  symmetric  subjects  unique  \n",
       "13     11 48; 20 48; 17 48        NaN   3 3          1       NaN       4  \n",
       "14      31 58; 8 58; 19 58        NaN   3 3          1       NaN       4  \n",
       "15  72 147; 28 147; 47 147        NaN   3 3          1       NaN       4  \n",
       "16      25 47; 14 47; 8 47        NaN   3 3          1       NaN       4  "
      ]
     },
     "execution_count": 41,
     "metadata": {},
     "output_type": "execute_result"
    }
   ],
   "source": [
    "df[df['matrixrow'] == keys[3]]"
   ]
  },
  {
   "cell_type": "code",
   "execution_count": 42,
   "metadata": {
    "collapsed": true,
    "deletable": true,
    "editable": true
   },
   "outputs": [],
   "source": [
    "choices = make_choices(4,3)"
   ]
  },
  {
   "cell_type": "markdown",
   "metadata": {
    "deletable": true,
    "editable": true
   },
   "source": [
    "### stahlwilson1995"
   ]
  },
  {
   "cell_type": "code",
   "execution_count": 43,
   "metadata": {
    "collapsed": false,
    "deletable": true,
    "editable": true
   },
   "outputs": [
    {
     "data": {
      "text/plain": [
       "\n",
       "P value  (LLR)  =  7.468e-07\n",
       "P value (Prob)  =  4.003e-07\n",
       "P value (Chisq) =  4.694e-07"
      ]
     },
     "metadata": {},
     "output_type": "display_data"
    }
   ],
   "source": [
    "%%R -i choices\n",
    "test_multi(choices,1,2)"
   ]
  },
  {
   "cell_type": "code",
   "execution_count": 44,
   "metadata": {
    "collapsed": false,
    "deletable": true,
    "editable": true
   },
   "outputs": [
    {
     "data": {
      "text/plain": [
       "\n",
       "P value  (LLR)  =  0.0001532\n",
       "P value (Prob)  =  9.462e-05\n",
       "P value (Chisq) =  7.047e-05"
      ]
     },
     "metadata": {},
     "output_type": "display_data"
    }
   ],
   "source": [
    "%%R -i choices\n",
    "test_multi(choices,1,3)"
   ]
  },
  {
   "cell_type": "code",
   "execution_count": 45,
   "metadata": {
    "collapsed": false,
    "deletable": true,
    "editable": true
   },
   "outputs": [
    {
     "data": {
      "text/plain": [
       "\n",
       "P value  (LLR)  =  6.983e-05\n",
       "P value (Prob)  =  3.096e-05\n",
       "P value (Chisq) =  7.864e-05"
      ]
     },
     "metadata": {},
     "output_type": "display_data"
    }
   ],
   "source": [
    "%%R -i choices\n",
    "test_multi(choices,1,4)"
   ]
  },
  {
   "cell_type": "markdown",
   "metadata": {
    "deletable": true,
    "editable": true
   },
   "source": [
    "### haruvyetal2001"
   ]
  },
  {
   "cell_type": "code",
   "execution_count": 46,
   "metadata": {
    "collapsed": false,
    "deletable": true,
    "editable": true
   },
   "outputs": [
    {
     "data": {
      "text/plain": [
       "\n",
       "P value  (LLR)  =  1.811e-07\n",
       "P value (Prob)  =  9.641e-08\n",
       "P value (Chisq) =  8.024e-08"
      ]
     },
     "metadata": {},
     "output_type": "display_data"
    }
   ],
   "source": [
    "%%R -i choices\n",
    "test_multi(choices,2,1)"
   ]
  },
  {
   "cell_type": "code",
   "execution_count": 47,
   "metadata": {
    "collapsed": false,
    "deletable": true,
    "editable": true
   },
   "outputs": [
    {
     "data": {
      "text/plain": [
       "\n",
       "P value  (LLR)  =  0.5419\n",
       "P value (Prob)  =  0.6333\n",
       "P value (Chisq) =  0.5864"
      ]
     },
     "metadata": {},
     "output_type": "display_data"
    }
   ],
   "source": [
    "%%R -i choices\n",
    "test_multi(choices,2,3)"
   ]
  },
  {
   "cell_type": "code",
   "execution_count": 48,
   "metadata": {
    "collapsed": false,
    "deletable": true,
    "editable": true
   },
   "outputs": [
    {
     "data": {
      "text/plain": [
       "\n",
       "P value  (LLR)  =  0.00179\n",
       "P value (Prob)  =  0.001592\n",
       "P value (Chisq) =  0.00135"
      ]
     },
     "metadata": {},
     "output_type": "display_data"
    }
   ],
   "source": [
    "%%R -i choices\n",
    "test_multi(choices,2,4)"
   ]
  },
  {
   "cell_type": "markdown",
   "metadata": {
    "deletable": true,
    "editable": true
   },
   "source": [
    "### haruvystahl2007\t"
   ]
  },
  {
   "cell_type": "code",
   "execution_count": 49,
   "metadata": {
    "collapsed": false,
    "deletable": true,
    "editable": true
   },
   "outputs": [
    {
     "data": {
      "text/plain": [
       "\n",
       "P value  (LLR)  =  8.648e-13\n",
       "P value (Prob)  =  6.136e-13\n",
       "P value (Chisq) =  4.91e-13"
      ]
     },
     "metadata": {},
     "output_type": "display_data"
    }
   ],
   "source": [
    "%%R -i choices\n",
    "test_multi(choices,3,1)"
   ]
  },
  {
   "cell_type": "code",
   "execution_count": 50,
   "metadata": {
    "collapsed": false,
    "deletable": true,
    "editable": true
   },
   "outputs": [
    {
     "data": {
      "text/plain": [
       "\n",
       "P value  (LLR)  =  0.2006\n",
       "P value (Prob)  =  0.1771\n",
       "P value (Chisq) =  0.1761"
      ]
     },
     "metadata": {},
     "output_type": "display_data"
    }
   ],
   "source": [
    "%%R -i choices\n",
    "test_multi(choices,3,2)"
   ]
  },
  {
   "cell_type": "code",
   "execution_count": 51,
   "metadata": {
    "collapsed": false,
    "deletable": true,
    "editable": true
   },
   "outputs": [
    {
     "data": {
      "text/plain": [
       "\n",
       "P value  (LLR)  =  1.492e-05\n",
       "P value (Prob)  =  1.256e-05\n",
       "P value (Chisq) =  5.145e-06"
      ]
     },
     "metadata": {},
     "output_type": "display_data"
    }
   ],
   "source": [
    "%%R -i choices\n",
    "test_multi(choices,3,4)"
   ]
  },
  {
   "cell_type": "markdown",
   "metadata": {
    "deletable": true,
    "editable": true
   },
   "source": [
    "### haruvystahl1998"
   ]
  },
  {
   "cell_type": "code",
   "execution_count": 52,
   "metadata": {
    "collapsed": false,
    "deletable": true,
    "editable": true
   },
   "outputs": [
    {
     "data": {
      "text/plain": [
       "\n",
       "P value  (LLR)  =  3.385e-05\n",
       "P value (Prob)  =  2.775e-05\n",
       "P value (Chisq) =  5.322e-06"
      ]
     },
     "metadata": {},
     "output_type": "display_data"
    }
   ],
   "source": [
    "%%R -i choices\n",
    "test_multi(choices,4,1)"
   ]
  },
  {
   "cell_type": "code",
   "execution_count": 53,
   "metadata": {
    "collapsed": false,
    "deletable": true,
    "editable": true
   },
   "outputs": [
    {
     "data": {
      "text/plain": [
       "\n",
       "P value  (LLR)  =  0.005067\n",
       "P value (Prob)  =  0.003776\n",
       "P value (Chisq) =  0.002549"
      ]
     },
     "metadata": {},
     "output_type": "display_data"
    }
   ],
   "source": [
    "%%R -i choices\n",
    "test_multi(choices,4,2)"
   ]
  },
  {
   "cell_type": "code",
   "execution_count": 54,
   "metadata": {
    "collapsed": false,
    "deletable": true,
    "editable": true
   },
   "outputs": [
    {
     "data": {
      "text/plain": [
       "\n",
       "P value  (LLR)  =  0.03991\n",
       "P value (Prob)  =  0.03687\n",
       "P value (Chisq) =  0.04149"
      ]
     },
     "metadata": {},
     "output_type": "display_data"
    }
   ],
   "source": [
    "%%R -i choices\n",
    "test_multi(choices,4,3)"
   ]
  },
  {
   "cell_type": "markdown",
   "metadata": {
    "deletable": true,
    "editable": true
   },
   "source": [
    "## Analyze game: \n",
    "<table>\n",
    "  <tr>\n",
    "    <td>T</td>\n",
    "    <td>30</td>\n",
    "    <td>100</td>\n",
    "    <td>22</td>\n",
    "  </tr>\n",
    "  <tr>\n",
    "    <td>M</td>\n",
    "    <td>35</td>\n",
    "    <td>0</td>\n",
    "    <td>45</td>\n",
    "  </tr>\n",
    "  <tr>\n",
    "    <td>B</td>\n",
    "    <td>51</td>\n",
    "    <td>50</td>\n",
    "    <td>20</td>\n",
    "  </tr>\n",
    "</table>"
   ]
  },
  {
   "cell_type": "code",
   "execution_count": 55,
   "metadata": {
    "collapsed": false,
    "deletable": true,
    "editable": true
   },
   "outputs": [
    {
     "data": {
      "text/html": [
       "<div>\n",
       "<table border=\"1\" class=\"dataframe\">\n",
       "  <thead>\n",
       "    <tr style=\"text-align: right;\">\n",
       "      <th></th>\n",
       "      <th>paper</th>\n",
       "      <th>game</th>\n",
       "      <th>matrixrow</th>\n",
       "      <th>matrixcol</th>\n",
       "      <th>choicerow</th>\n",
       "      <th>choicecol</th>\n",
       "      <th>shape</th>\n",
       "      <th>symmetric</th>\n",
       "      <th>subjects</th>\n",
       "      <th>unique</th>\n",
       "    </tr>\n",
       "  </thead>\n",
       "  <tbody>\n",
       "    <tr>\n",
       "      <th>17</th>\n",
       "      <td>stahlwilson1995</td>\n",
       "      <td>11</td>\n",
       "      <td>30 100 22; 35 0 45; 51 50 20</td>\n",
       "      <td>NaN</td>\n",
       "      <td>13 48; 4 48; 31 48</td>\n",
       "      <td>NaN</td>\n",
       "      <td>3 3</td>\n",
       "      <td>1</td>\n",
       "      <td>NaN</td>\n",
       "      <td>4</td>\n",
       "    </tr>\n",
       "    <tr>\n",
       "      <th>18</th>\n",
       "      <td>haruvyetal2001</td>\n",
       "      <td>14</td>\n",
       "      <td>30 100 22; 35 0 45; 51 50 20</td>\n",
       "      <td>NaN</td>\n",
       "      <td>33 58; 2 58; 23 58</td>\n",
       "      <td>NaN</td>\n",
       "      <td>3 3</td>\n",
       "      <td>1</td>\n",
       "      <td>NaN</td>\n",
       "      <td>4</td>\n",
       "    </tr>\n",
       "    <tr>\n",
       "      <th>19</th>\n",
       "      <td>haruvystahl2007</td>\n",
       "      <td>12</td>\n",
       "      <td>30 100 22; 35 0 45; 51 50 20</td>\n",
       "      <td>NaN</td>\n",
       "      <td>96 147; 13 147; 38 147</td>\n",
       "      <td>NaN</td>\n",
       "      <td>3 3</td>\n",
       "      <td>1</td>\n",
       "      <td>NaN</td>\n",
       "      <td>4</td>\n",
       "    </tr>\n",
       "    <tr>\n",
       "      <th>20</th>\n",
       "      <td>haruvystahl1998</td>\n",
       "      <td>12</td>\n",
       "      <td>30 100 22; 35 0 45; 51 50 20</td>\n",
       "      <td>NaN</td>\n",
       "      <td>28 47; 3 47; 16 47</td>\n",
       "      <td>NaN</td>\n",
       "      <td>3 3</td>\n",
       "      <td>1</td>\n",
       "      <td>NaN</td>\n",
       "      <td>4</td>\n",
       "    </tr>\n",
       "  </tbody>\n",
       "</table>\n",
       "</div>"
      ],
      "text/plain": [
       "              paper  game                     matrixrow  matrixcol  \\\n",
       "17  stahlwilson1995    11  30 100 22; 35 0 45; 51 50 20        NaN   \n",
       "18   haruvyetal2001    14  30 100 22; 35 0 45; 51 50 20        NaN   \n",
       "19  haruvystahl2007    12  30 100 22; 35 0 45; 51 50 20        NaN   \n",
       "20  haruvystahl1998    12  30 100 22; 35 0 45; 51 50 20        NaN   \n",
       "\n",
       "                 choicerow  choicecol shape  symmetric  subjects  unique  \n",
       "17      13 48; 4 48; 31 48        NaN   3 3          1       NaN       4  \n",
       "18      33 58; 2 58; 23 58        NaN   3 3          1       NaN       4  \n",
       "19  96 147; 13 147; 38 147        NaN   3 3          1       NaN       4  \n",
       "20      28 47; 3 47; 16 47        NaN   3 3          1       NaN       4  "
      ]
     },
     "execution_count": 55,
     "metadata": {},
     "output_type": "execute_result"
    }
   ],
   "source": [
    "df[df['matrixrow'] == keys[4]]"
   ]
  },
  {
   "cell_type": "code",
   "execution_count": 56,
   "metadata": {
    "collapsed": true,
    "deletable": true,
    "editable": true
   },
   "outputs": [],
   "source": [
    "choices = make_choices(4,4)"
   ]
  },
  {
   "cell_type": "markdown",
   "metadata": {
    "deletable": true,
    "editable": true
   },
   "source": [
    "### stahlwilson1995"
   ]
  },
  {
   "cell_type": "code",
   "execution_count": 57,
   "metadata": {
    "collapsed": false,
    "deletable": true,
    "editable": true
   },
   "outputs": [
    {
     "data": {
      "text/plain": [
       "\n",
       "P value  (LLR)  =  9.649e-05\n",
       "P value (Prob)  =  6.994e-05\n",
       "P value (Chisq) =  0.0007224"
      ]
     },
     "metadata": {},
     "output_type": "display_data"
    }
   ],
   "source": [
    "%%R -i choices\n",
    "test_multi(choices,1,2)"
   ]
  },
  {
   "cell_type": "code",
   "execution_count": 58,
   "metadata": {
    "collapsed": false,
    "deletable": true,
    "editable": true
   },
   "outputs": [
    {
     "data": {
      "text/plain": [
       "\n",
       "P value  (LLR)  =  3.983e-08\n",
       "P value (Prob)  =  3.394e-08\n",
       "P value (Chisq) =  4.187e-07"
      ]
     },
     "metadata": {},
     "output_type": "display_data"
    }
   ],
   "source": [
    "%%R -i choices\n",
    "test_multi(choices,1,3)"
   ]
  },
  {
   "cell_type": "code",
   "execution_count": 59,
   "metadata": {
    "collapsed": false,
    "deletable": true,
    "editable": true
   },
   "outputs": [
    {
     "data": {
      "text/plain": [
       "\n",
       "P value  (LLR)  =  2.201e-05\n",
       "P value (Prob)  =  1.447e-05\n",
       "P value (Chisq) =  0.0001909"
      ]
     },
     "metadata": {},
     "output_type": "display_data"
    }
   ],
   "source": [
    "%%R -i choices\n",
    "test_multi(choices,1,4)"
   ]
  },
  {
   "cell_type": "markdown",
   "metadata": {
    "deletable": true,
    "editable": true
   },
   "source": [
    "### haruvyetal2001"
   ]
  },
  {
   "cell_type": "code",
   "execution_count": 60,
   "metadata": {
    "collapsed": false,
    "deletable": true,
    "editable": true
   },
   "outputs": [
    {
     "data": {
      "text/plain": [
       "\n",
       "P value  (LLR)  =  9.751e-06\n",
       "P value (Prob)  =  9.942e-06\n",
       "P value (Chisq) =  1.9e-05"
      ]
     },
     "metadata": {},
     "output_type": "display_data"
    }
   ],
   "source": [
    "%%R -i choices\n",
    "test_multi(choices,2,1)"
   ]
  },
  {
   "cell_type": "code",
   "execution_count": 61,
   "metadata": {
    "collapsed": false,
    "deletable": true,
    "editable": true
   },
   "outputs": [
    {
     "data": {
      "text/plain": [
       "\n",
       "P value  (LLR)  =  0.03777\n",
       "P value (Prob)  =  0.04398\n",
       "P value (Chisq) =  0.03303"
      ]
     },
     "metadata": {},
     "output_type": "display_data"
    }
   ],
   "source": [
    "%%R -i choices\n",
    "test_multi(choices,2,3)"
   ]
  },
  {
   "cell_type": "code",
   "execution_count": 62,
   "metadata": {
    "collapsed": false,
    "deletable": true,
    "editable": true
   },
   "outputs": [
    {
     "data": {
      "text/plain": [
       "\n",
       "P value  (LLR)  =  0.4563\n",
       "P value (Prob)  =  0.5726\n",
       "P value (Chisq) =  0.5218"
      ]
     },
     "metadata": {},
     "output_type": "display_data"
    }
   ],
   "source": [
    "%%R -i choices\n",
    "test_multi(choices,2,4)"
   ]
  },
  {
   "cell_type": "markdown",
   "metadata": {
    "deletable": true,
    "editable": true
   },
   "source": [
    "### haruvystahl2007"
   ]
  },
  {
   "cell_type": "code",
   "execution_count": 63,
   "metadata": {
    "collapsed": false,
    "deletable": true,
    "editable": true
   },
   "outputs": [
    {
     "data": {
      "text/plain": [
       "\n",
       "P value  (LLR)  =  1.085e-22\n",
       "P value (Prob)  =  6.202e-23\n",
       "P value (Chisq) =  5.341e-17"
      ]
     },
     "metadata": {},
     "output_type": "display_data"
    }
   ],
   "source": [
    "%%R -i choices\n",
    "test_multi(choices,3,1)"
   ]
  },
  {
   "cell_type": "code",
   "execution_count": 64,
   "metadata": {
    "collapsed": false,
    "deletable": true,
    "editable": true
   },
   "outputs": [
    {
     "data": {
      "text/plain": [
       "\n",
       "P value  (LLR)  =  8.842e-05\n",
       "P value (Prob)  =  6.031e-05\n",
       "P value (Chisq) =  0.000109"
      ]
     },
     "metadata": {},
     "output_type": "display_data"
    }
   ],
   "source": [
    "%%R -i choices\n",
    "test_multi(choices,3,2)"
   ]
  },
  {
   "cell_type": "code",
   "execution_count": 65,
   "metadata": {
    "collapsed": false,
    "deletable": true,
    "editable": true
   },
   "outputs": [
    {
     "data": {
      "text/plain": [
       "\n",
       "P value  (LLR)  =  0.07782\n",
       "P value (Prob)  =  0.06843\n",
       "P value (Chisq) =  0.07871"
      ]
     },
     "metadata": {},
     "output_type": "display_data"
    }
   ],
   "source": [
    "%%R -i choices\n",
    "test_multi(choices,3,4)"
   ]
  },
  {
   "cell_type": "markdown",
   "metadata": {
    "deletable": true,
    "editable": true
   },
   "source": [
    "### haruvystahl1998"
   ]
  },
  {
   "cell_type": "code",
   "execution_count": 66,
   "metadata": {
    "collapsed": false,
    "deletable": true,
    "editable": true
   },
   "outputs": [
    {
     "data": {
      "text/plain": [
       "\n",
       "P value  (LLR)  =  1.629e-05\n",
       "P value (Prob)  =  1.221e-05\n",
       "P value (Chisq) =  2.86e-05"
      ]
     },
     "metadata": {},
     "output_type": "display_data"
    }
   ],
   "source": [
    "%%R -i choices\n",
    "test_multi(choices,4,1)"
   ]
  },
  {
   "cell_type": "code",
   "execution_count": 67,
   "metadata": {
    "collapsed": false,
    "deletable": true,
    "editable": true
   },
   "outputs": [
    {
     "data": {
      "text/plain": [
       "\n",
       "P value  (LLR)  =  0.5025\n",
       "P value (Prob)  =  0.3589\n",
       "P value (Chisq) =  0.5025"
      ]
     },
     "metadata": {},
     "output_type": "display_data"
    }
   ],
   "source": [
    "%%R -i choices\n",
    "test_multi(choices,4,2)"
   ]
  },
  {
   "cell_type": "code",
   "execution_count": 68,
   "metadata": {
    "collapsed": false,
    "deletable": true,
    "editable": true
   },
   "outputs": [
    {
     "data": {
      "text/plain": [
       "\n",
       "P value  (LLR)  =  0.4411\n",
       "P value (Prob)  =  0.4333\n",
       "P value (Chisq) =  0.4123"
      ]
     },
     "metadata": {},
     "output_type": "display_data"
    }
   ],
   "source": [
    "%%R -i choices\n",
    "test_multi(choices,4,3)"
   ]
  },
  {
   "cell_type": "markdown",
   "metadata": {
    "deletable": true,
    "editable": true
   },
   "source": [
    "## Analyze game: \n",
    "<table>\n",
    "  <tr>\n",
    "    <td>T</td>\n",
    "    <td>40</td>\n",
    "    <td>15</td>\n",
    "    <td>70</td>\n",
    "  </tr>\n",
    "  <tr>\n",
    "    <td>M</td>\n",
    "    <td>22</td>\n",
    "    <td>80</td>\n",
    "    <td>0</td>\n",
    "  </tr>\n",
    "  <tr>\n",
    "    <td>B</td>\n",
    "    <td>30</td>\n",
    "    <td>100</td>\n",
    "    <td>55</td>\n",
    "  </tr>\n",
    "</table>"
   ]
  },
  {
   "cell_type": "code",
   "execution_count": 69,
   "metadata": {
    "collapsed": false,
    "deletable": true,
    "editable": true
   },
   "outputs": [
    {
     "data": {
      "text/html": [
       "<div>\n",
       "<table border=\"1\" class=\"dataframe\">\n",
       "  <thead>\n",
       "    <tr style=\"text-align: right;\">\n",
       "      <th></th>\n",
       "      <th>paper</th>\n",
       "      <th>game</th>\n",
       "      <th>matrixrow</th>\n",
       "      <th>matrixcol</th>\n",
       "      <th>choicerow</th>\n",
       "      <th>choicecol</th>\n",
       "      <th>shape</th>\n",
       "      <th>symmetric</th>\n",
       "      <th>subjects</th>\n",
       "      <th>unique</th>\n",
       "    </tr>\n",
       "  </thead>\n",
       "  <tbody>\n",
       "    <tr>\n",
       "      <th>21</th>\n",
       "      <td>stahlwilson1995</td>\n",
       "      <td>12</td>\n",
       "      <td>40 15 70; 22 80 0; 30 100 55</td>\n",
       "      <td>NaN</td>\n",
       "      <td>26 48; 3 48; 19 48</td>\n",
       "      <td>NaN</td>\n",
       "      <td>3 3</td>\n",
       "      <td>1</td>\n",
       "      <td>NaN</td>\n",
       "      <td>4</td>\n",
       "    </tr>\n",
       "    <tr>\n",
       "      <th>22</th>\n",
       "      <td>haruvyetal2001</td>\n",
       "      <td>15</td>\n",
       "      <td>40 15 70; 22 80 0; 30 100 55</td>\n",
       "      <td>NaN</td>\n",
       "      <td>17 58; 2 58; 39 58</td>\n",
       "      <td>NaN</td>\n",
       "      <td>3 3</td>\n",
       "      <td>1</td>\n",
       "      <td>NaN</td>\n",
       "      <td>4</td>\n",
       "    </tr>\n",
       "    <tr>\n",
       "      <th>23</th>\n",
       "      <td>haruvystahl2007</td>\n",
       "      <td>6</td>\n",
       "      <td>40 15 70; 22 80 0; 30 100 55</td>\n",
       "      <td>NaN</td>\n",
       "      <td>32 147; 5 147; 110 147</td>\n",
       "      <td>NaN</td>\n",
       "      <td>3 3</td>\n",
       "      <td>1</td>\n",
       "      <td>NaN</td>\n",
       "      <td>4</td>\n",
       "    </tr>\n",
       "    <tr>\n",
       "      <th>24</th>\n",
       "      <td>haruvystahl1998</td>\n",
       "      <td>6</td>\n",
       "      <td>40 15 70; 22 80 0; 30 100 55</td>\n",
       "      <td>NaN</td>\n",
       "      <td>14 47; 1 47; 32 47</td>\n",
       "      <td>NaN</td>\n",
       "      <td>3 3</td>\n",
       "      <td>1</td>\n",
       "      <td>NaN</td>\n",
       "      <td>4</td>\n",
       "    </tr>\n",
       "  </tbody>\n",
       "</table>\n",
       "</div>"
      ],
      "text/plain": [
       "              paper  game                     matrixrow  matrixcol  \\\n",
       "21  stahlwilson1995    12  40 15 70; 22 80 0; 30 100 55        NaN   \n",
       "22   haruvyetal2001    15  40 15 70; 22 80 0; 30 100 55        NaN   \n",
       "23  haruvystahl2007     6  40 15 70; 22 80 0; 30 100 55        NaN   \n",
       "24  haruvystahl1998     6  40 15 70; 22 80 0; 30 100 55        NaN   \n",
       "\n",
       "                 choicerow  choicecol shape  symmetric  subjects  unique  \n",
       "21      26 48; 3 48; 19 48        NaN   3 3          1       NaN       4  \n",
       "22      17 58; 2 58; 39 58        NaN   3 3          1       NaN       4  \n",
       "23  32 147; 5 147; 110 147        NaN   3 3          1       NaN       4  \n",
       "24      14 47; 1 47; 32 47        NaN   3 3          1       NaN       4  "
      ]
     },
     "execution_count": 69,
     "metadata": {},
     "output_type": "execute_result"
    }
   ],
   "source": [
    "df[df['matrixrow'] == keys[5]]"
   ]
  },
  {
   "cell_type": "code",
   "execution_count": 70,
   "metadata": {
    "collapsed": true,
    "deletable": true,
    "editable": true
   },
   "outputs": [],
   "source": [
    "choices = make_choices(4,5)"
   ]
  },
  {
   "cell_type": "markdown",
   "metadata": {
    "deletable": true,
    "editable": true
   },
   "source": [
    "### stahlwilson1995"
   ]
  },
  {
   "cell_type": "code",
   "execution_count": 71,
   "metadata": {
    "collapsed": false,
    "deletable": true,
    "editable": true
   },
   "outputs": [
    {
     "data": {
      "text/plain": [
       "\n",
       "P value  (LLR)  =  0.0003454\n",
       "P value (Prob)  =  0.0002425\n",
       "P value (Chisq) =  0.001465"
      ]
     },
     "metadata": {},
     "output_type": "display_data"
    }
   ],
   "source": [
    "%%R -i choices\n",
    "test_multi(choices,1,2)"
   ]
  },
  {
   "cell_type": "code",
   "execution_count": 72,
   "metadata": {
    "collapsed": false,
    "deletable": true,
    "editable": true
   },
   "outputs": [
    {
     "data": {
      "text/plain": [
       "\n",
       "P value  (LLR)  =  1.754e-06\n",
       "P value (Prob)  =  6.123e-07\n",
       "P value (Chisq) =  3.189e-05"
      ]
     },
     "metadata": {},
     "output_type": "display_data"
    }
   ],
   "source": [
    "%%R -i choices\n",
    "test_multi(choices,1,3)"
   ]
  },
  {
   "cell_type": "code",
   "execution_count": 73,
   "metadata": {
    "collapsed": false,
    "deletable": true,
    "editable": true
   },
   "outputs": [
    {
     "data": {
      "text/plain": [
       "\n",
       "P value  (LLR)  =  0.0001256\n",
       "P value (Prob)  =  8.755e-05\n",
       "P value (Chisq) =  0.0007617"
      ]
     },
     "metadata": {},
     "output_type": "display_data"
    }
   ],
   "source": [
    "%%R -i choices\n",
    "test_multi(choices,1,4)"
   ]
  },
  {
   "cell_type": "markdown",
   "metadata": {
    "deletable": true,
    "editable": true
   },
   "source": [
    "### haruvyetal2001"
   ]
  },
  {
   "cell_type": "code",
   "execution_count": 74,
   "metadata": {
    "collapsed": false,
    "deletable": true,
    "editable": true
   },
   "outputs": [
    {
     "data": {
      "text/plain": [
       "\n",
       "P value  (LLR)  =  0.0001113\n",
       "P value (Prob)  =  0.000116\n",
       "P value (Chisq) =  0.0003238"
      ]
     },
     "metadata": {},
     "output_type": "display_data"
    }
   ],
   "source": [
    "%%R -i choices\n",
    "test_multi(choices,2,1)"
   ]
  },
  {
   "cell_type": "code",
   "execution_count": 75,
   "metadata": {
    "collapsed": false,
    "deletable": true,
    "editable": true
   },
   "outputs": [
    {
     "data": {
      "text/plain": [
       "\n",
       "P value  (LLR)  =  0.4001\n",
       "P value (Prob)  =  0.3363\n",
       "P value (Chisq) =  0.433"
      ]
     },
     "metadata": {},
     "output_type": "display_data"
    }
   ],
   "source": [
    "%%R -i choices\n",
    "test_multi(choices,2,3)"
   ]
  },
  {
   "cell_type": "code",
   "execution_count": 76,
   "metadata": {
    "collapsed": false,
    "deletable": true,
    "editable": true
   },
   "outputs": [
    {
     "data": {
      "text/plain": [
       "\n",
       "P value  (LLR)  =  0.843\n",
       "P value (Prob)  =  0.6275\n",
       "P value (Chisq) =  0.843"
      ]
     },
     "metadata": {},
     "output_type": "display_data"
    }
   ],
   "source": [
    "%%R -i choices\n",
    "test_multi(choices,2,4)"
   ]
  },
  {
   "cell_type": "markdown",
   "metadata": {
    "deletable": true,
    "editable": true
   },
   "source": [
    "### haruvystahl2007"
   ]
  },
  {
   "cell_type": "code",
   "execution_count": 77,
   "metadata": {
    "collapsed": false,
    "deletable": true,
    "editable": true
   },
   "outputs": [
    {
     "data": {
      "text/plain": [
       "\n",
       "P value  (LLR)  =  3.085e-17\n",
       "P value (Prob)  =  4.067e-17\n",
       "P value (Chisq) =  5.847e-12"
      ]
     },
     "metadata": {},
     "output_type": "display_data"
    }
   ],
   "source": [
    "%%R -i choices\n",
    "test_multi(choices,3,1)"
   ]
  },
  {
   "cell_type": "code",
   "execution_count": 78,
   "metadata": {
    "collapsed": false,
    "deletable": true,
    "editable": true
   },
   "outputs": [
    {
     "data": {
      "text/plain": [
       "\n",
       "P value  (LLR)  =  0.1217\n",
       "P value (Prob)  =  0.1198\n",
       "P value (Chisq) =  0.1184"
      ]
     },
     "metadata": {},
     "output_type": "display_data"
    }
   ],
   "source": [
    "%%R -i choices\n",
    "test_multi(choices,3,2)"
   ]
  },
  {
   "cell_type": "code",
   "execution_count": 79,
   "metadata": {
    "collapsed": false,
    "deletable": true,
    "editable": true
   },
   "outputs": [
    {
     "data": {
      "text/plain": [
       "\n",
       "P value  (LLR)  =  0.09521\n",
       "P value (Prob)  =  0.05081\n",
       "P value (Chisq) =  0.06812"
      ]
     },
     "metadata": {},
     "output_type": "display_data"
    }
   ],
   "source": [
    "%%R -i choices\n",
    "test_multi(choices,3,4)"
   ]
  },
  {
   "cell_type": "markdown",
   "metadata": {
    "deletable": true,
    "editable": true
   },
   "source": [
    "### haruvystahl1998"
   ]
  },
  {
   "cell_type": "code",
   "execution_count": 80,
   "metadata": {
    "collapsed": false,
    "deletable": true,
    "editable": true
   },
   "outputs": [
    {
     "data": {
      "text/plain": [
       "\n",
       "P value  (LLR)  =  0.0003161\n",
       "P value (Prob)  =  0.0004524\n",
       "P value (Chisq) =  0.0008103"
      ]
     },
     "metadata": {},
     "output_type": "display_data"
    }
   ],
   "source": [
    "%%R -i choices\n",
    "test_multi(choices,4,1)"
   ]
  },
  {
   "cell_type": "code",
   "execution_count": 81,
   "metadata": {
    "collapsed": false,
    "deletable": true,
    "editable": true
   },
   "outputs": [
    {
     "data": {
      "text/plain": [
       "\n",
       "P value  (LLR)  =  0.9024\n",
       "P value (Prob)  =  1\n",
       "P value (Chisq) =  0.9327"
      ]
     },
     "metadata": {},
     "output_type": "display_data"
    }
   ],
   "source": [
    "%%R -i choices\n",
    "test_multi(choices,4,2)"
   ]
  },
  {
   "cell_type": "code",
   "execution_count": 82,
   "metadata": {
    "collapsed": false,
    "deletable": true,
    "editable": true
   },
   "outputs": [
    {
     "data": {
      "text/plain": [
       "\n",
       "P value  (LLR)  =  0.4729\n",
       "P value (Prob)  =  0.3765\n",
       "P value (Chisq) =  0.3949"
      ]
     },
     "metadata": {},
     "output_type": "display_data"
    }
   ],
   "source": [
    "%%R -i choices\n",
    "test_multi(choices,4,3)"
   ]
  },
  {
   "cell_type": "code",
   "execution_count": null,
   "metadata": {
    "collapsed": true
   },
   "outputs": [],
   "source": []
  }
 ],
 "metadata": {
  "kernelspec": {
   "display_name": "Python 3",
   "language": "python",
   "name": "python3"
  },
  "language_info": {
   "codemirror_mode": {
    "name": "ipython",
    "version": 3
   },
   "file_extension": ".py",
   "mimetype": "text/x-python",
   "name": "python",
   "nbconvert_exporter": "python",
   "pygments_lexer": "ipython3",
   "version": "3.5.1"
  }
 },
 "nbformat": 4,
 "nbformat_minor": 2
}
