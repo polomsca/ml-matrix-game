{
 "cells": [
  {
   "cell_type": "markdown",
   "metadata": {},
   "source": [
    "# GameNet (Hartford et al 2016)"
   ]
  },
  {
   "cell_type": "markdown",
   "metadata": {},
   "source": [
    "## Session"
   ]
  },
  {
   "cell_type": "code",
   "execution_count": 31,
   "metadata": {
    "collapsed": true
   },
   "outputs": [],
   "source": [
    "import tensorflow as tf\n",
    "import numpy as np\n",
    "import pandas as pd\n",
    "from __future__ import division\n",
    "sess = tf.InteractiveSession()"
   ]
  },
  {
   "cell_type": "markdown",
   "metadata": {},
   "source": [
    "## Data"
   ]
  },
  {
   "cell_type": "code",
   "execution_count": 32,
   "metadata": {
    "collapsed": false
   },
   "outputs": [],
   "source": [
    "import_csv = pd.read_csv('gamesmxn.csv')\n",
    "tmp = np.empty((import_csv.shape[0]))\n",
    "tmp[:] = np.NAN\n",
    "for i in range(import_csv.shape[0]):\n",
    "    if import_csv['shape'][i] == '3 3' and import_csv['symmetric'][i] == 1:\n",
    "        tmp[i] = i\n",
    "index = tmp[~np.isnan(tmp)]\n",
    "inputs_row = np.zeros((index.shape[0], 3, 3, 2))\n",
    "inputs_col = np.zeros((index.shape[0], 3, 3, 2))\n",
    "target_row = np.zeros((index.shape[0], 3, 1))\n",
    "for j in range(index.shape[0]):\n",
    "    Ur = np.matrix(import_csv['matrixrow'][int(index[j])])\n",
    "    Ur = (Ur-np.mean(Ur))/np.std(Ur)\n",
    "    Uc = np.transpose(Ur)\n",
    "    ar = np.matrix(import_csv['choicerow'][int(index[j])])\n",
    "    if ar.shape[1] == 2:\n",
    "        ar = ar[:,0]/ar[:,1]\n",
    "    inputs_row[j, :, :, 0] = Ur\n",
    "    inputs_row[j, :, :, 1] = Uc\n",
    "    inputs_col[j, :, :, 0] = Uc\n",
    "    inputs_col[j, :, :, 1] = Ur\n",
    "    target_row[j] = ar"
   ]
  },
  {
   "cell_type": "markdown",
   "metadata": {},
   "source": [
    "### Training and test sets "
   ]
  },
  {
   "cell_type": "code",
   "execution_count": 33,
   "metadata": {
    "collapsed": false
   },
   "outputs": [],
   "source": [
    "shuffle = np.random.permutation(range(inputs_row.shape[0]))\n",
    "index_train = shuffle[0:inputs_row.shape[0]//5*4] \n",
    "index_tests = shuffle[inputs_row.shape[0]//5*4:inputs_row.shape[0]]\n",
    "inputs_row_train = inputs_row[index_train]\n",
    "inputs_col_train = inputs_col[index_train]\n",
    "target_row_train = target_row[index_train]\n",
    "inputs_row_tests = inputs_row[index_tests]\n",
    "inputs_col_tests = inputs_col[index_tests]\n",
    "target_row_tests = target_row[index_tests]"
   ]
  },
  {
   "cell_type": "markdown",
   "metadata": {},
   "source": [
    "## Model"
   ]
  },
  {
   "cell_type": "markdown",
   "metadata": {},
   "source": [
    "### Parameters"
   ]
  },
  {
   "cell_type": "markdown",
   "metadata": {},
   "source": [
    "#### Weights and bias"
   ]
  },
  {
   "cell_type": "code",
   "execution_count": 142,
   "metadata": {
    "collapsed": true
   },
   "outputs": [],
   "source": [
    "def weight_variable(shape):\n",
    "    initial = tf.truncated_normal(shape, stddev=0.1)\n",
    "    return tf.Variable(initial)\n",
    "\n",
    "def bias_variable(shape):\n",
    "    initial = tf.constant(0.1, shape=shape)\n",
    "    return tf.Variable(initial)"
   ]
  },
  {
   "cell_type": "markdown",
   "metadata": {},
   "source": [
    "#### Convolution and pooling"
   ]
  },
  {
   "cell_type": "code",
   "execution_count": 143,
   "metadata": {
    "collapsed": true
   },
   "outputs": [],
   "source": [
    "def conv2d(x, W):\n",
    "    return tf.nn.conv2d(x, W, strides=[1, 1, 1, 1], padding='SAME')"
   ]
  },
  {
   "cell_type": "code",
   "execution_count": 144,
   "metadata": {
    "collapsed": true
   },
   "outputs": [],
   "source": [
    "def rw_pool(x):\n",
    "    U_max = tf.reduce_max(U, axis=1)\n",
    "    U_tle = tf.tile(U_max,[3])\n",
    "    U_shp = tf.reshape(U_tle,[3,3])\n",
    "    return tf.Variable(U_shp)\n",
    "\n",
    "def cw_pool(x):\n",
    "    U_max = tf.reduce_max(U, axis=0)\n",
    "    U_tle = tf.tile(U_max,[3])\n",
    "    U_shp = tf.reshape(U_tle,[3,3])\n",
    "    return tf.Variable(U_shp)"
   ]
  },
  {
   "cell_type": "markdown",
   "metadata": {},
   "source": [
    "### Input and target"
   ]
  },
  {
   "cell_type": "code",
   "execution_count": 145,
   "metadata": {
    "collapsed": true
   },
   "outputs": [],
   "source": [
    "x_row = tf.placeholder(tf.float32, shape=[None, 3, 3, 2])\n",
    "x_col = tf.placeholder(tf.float32, shape=[None, 3, 3, 2])\n",
    "y_ = tf.placeholder(tf.float32, shape=[None, 3, 1])"
   ]
  },
  {
   "cell_type": "markdown",
   "metadata": {},
   "source": [
    "### Hidden layer 1 (row player)"
   ]
  },
  {
   "cell_type": "code",
   "execution_count": 146,
   "metadata": {
    "collapsed": false
   },
   "outputs": [],
   "source": [
    "W_conv1 = weight_variable([1, 1, 2, 50])\n",
    "b_conv1 = bias_variable([50])\n",
    "x_image = tf.reshape(x_row, [-1, 3, 3, 2])\n",
    "h_conv1 = tf.nn.relu(conv2d(x_image, W_conv1) + b_conv1)"
   ]
  },
  {
   "cell_type": "markdown",
   "metadata": {},
   "source": [
    "### Hidden layer 2 (row player)"
   ]
  },
  {
   "cell_type": "code",
   "execution_count": 147,
   "metadata": {
    "collapsed": false
   },
   "outputs": [],
   "source": [
    "W_conv2 = weight_variable([1, 1, 50, 50])\n",
    "b_conv2 = bias_variable([50])\n",
    "h_conv2 = tf.nn.relu(conv2d(h_conv1, W_conv2) + b_conv2)"
   ]
  },
  {
   "cell_type": "code",
   "execution_count": 148,
   "metadata": {
    "collapsed": true
   },
   "outputs": [],
   "source": [
    "keep_prob = tf.placeholder(tf.float32)\n",
    "h_conv2_drop = tf.nn.dropout(h_conv2, keep_prob)"
   ]
  },
  {
   "cell_type": "markdown",
   "metadata": {},
   "source": [
    "<div style=\"text-align: right\"> <h3> Hidden layer 1 (col player) </h3> </div>"
   ]
  },
  {
   "cell_type": "code",
   "execution_count": 149,
   "metadata": {
    "collapsed": true
   },
   "outputs": [],
   "source": [
    "W_conv1_col = weight_variable([1, 1, 2, 50])\n",
    "b_conv1_col = bias_variable([50])\n",
    "x_image_col = tf.reshape(x_col, [-1, 3, 3, 2])\n",
    "h_conv1_col = tf.nn.relu(conv2d(x_image_col, W_conv1_col) + b_conv1_col)"
   ]
  },
  {
   "cell_type": "markdown",
   "metadata": {},
   "source": [
    "<div style=\"text-align: right\"> <h3> Hidden layer 2 (col player) </h3> </div>"
   ]
  },
  {
   "cell_type": "code",
   "execution_count": 150,
   "metadata": {
    "collapsed": true
   },
   "outputs": [],
   "source": [
    "W_conv2_col = weight_variable([1, 1, 50, 50])\n",
    "b_conv2_col = bias_variable([50])\n",
    "h_conv2_col = tf.nn.relu(conv2d(h_conv1_col, W_conv2_col) + b_conv2_col)"
   ]
  },
  {
   "cell_type": "code",
   "execution_count": 151,
   "metadata": {
    "collapsed": true
   },
   "outputs": [],
   "source": [
    "keep_prob_col = tf.placeholder(tf.float32)\n",
    "h_conv2_col_drop = tf.nn.dropout(h_conv2_col, keep_prob_col)"
   ]
  },
  {
   "cell_type": "markdown",
   "metadata": {},
   "source": [
    "<div style=\"text-align: right\"> <h3> Action response layer 0 (col player) </h3> </div>"
   ]
  },
  {
   "cell_type": "code",
   "execution_count": 152,
   "metadata": {
    "collapsed": false
   },
   "outputs": [],
   "source": [
    "ar_rwsm0_col = tf.reduce_sum(h_conv2_col_drop, axis=2)\n",
    "ar_sfmx0_col = tf.nn.softmax(ar_rwsm0_col, dim=1)\n",
    "ar_sfmx0_col = tf.slice(ar_sfmx0_col, [0, 0, 0], [-1, 3, 1])"
   ]
  },
  {
   "cell_type": "markdown",
   "metadata": {},
   "source": [
    "### Action response layer 1 (row player response to col player)"
   ]
  },
  {
   "cell_type": "code",
   "execution_count": 153,
   "metadata": {
    "collapsed": true
   },
   "outputs": [],
   "source": [
    "ar_rdsm1 = tf.reduce_sum(h_conv2, axis=3)\n",
    "ar_dtpt1 = tf.matmul(ar_rdsm1, ar_sfmx0_col)\n",
    "y = tf.nn.softmax(ar_dtpt1, dim=1)"
   ]
  },
  {
   "cell_type": "markdown",
   "metadata": {},
   "source": [
    "### Cost function"
   ]
  },
  {
   "cell_type": "code",
   "execution_count": 154,
   "metadata": {
    "collapsed": true
   },
   "outputs": [],
   "source": [
    "beta = 0.01\n",
    "regularizer = tf.nn.l2_loss(W_conv1) + tf.nn.l2_loss(W_conv2) + tf.nn.l2_loss(W_conv1_col) + tf.nn.l2_loss(W_conv2_col)\n",
    "cross_entropy = tf.reduce_mean(-tf.reduce_sum(y_ * tf.log(y) + beta * regularizer, reduction_indices=[1]))"
   ]
  },
  {
   "cell_type": "markdown",
   "metadata": {},
   "source": [
    "### Optimization"
   ]
  },
  {
   "cell_type": "code",
   "execution_count": 155,
   "metadata": {
    "collapsed": true
   },
   "outputs": [],
   "source": [
    "train_step = tf.train.AdamOptimizer(0.0002,0.9,0.999,1e-8).minimize(cross_entropy)"
   ]
  },
  {
   "cell_type": "markdown",
   "metadata": {},
   "source": [
    "## Train"
   ]
  },
  {
   "cell_type": "code",
   "execution_count": 156,
   "metadata": {
    "collapsed": false
   },
   "outputs": [],
   "source": [
    "correct_prediction = tf.equal(tf.argmax(y,1), tf.argmax(y_,1))\n",
    "accuracy = tf.reduce_mean(tf.cast(correct_prediction, tf.float32))\n",
    "sess.run(tf.global_variables_initializer())"
   ]
  },
  {
   "cell_type": "code",
   "execution_count": 157,
   "metadata": {
    "collapsed": false
   },
   "outputs": [
    {
     "name": "stdout",
     "output_type": "stream",
     "text": [
      "step 0, train accuracy 0.0625, train NLL 0.538047\n",
      "step 100, train accuracy 0.6875, train NLL 0.0714749\n",
      "step 200, train accuracy 0.8125, train NLL -0.14418\n",
      "step 300, train accuracy 0.875, train NLL -0.531959\n",
      "step 400, train accuracy 0.875, train NLL -0.929722\n",
      "step 500, train accuracy 0.9375, train NLL -1.49675\n",
      "step 600, train accuracy 0.9375, train NLL -2.05906\n",
      "step 700, train accuracy 0.9375, train NLL -2.82296\n",
      "step 800, train accuracy 0.9375, train NLL -3.67122\n",
      "step 900, train accuracy 0.875, train NLL -4.6663\n",
      "step 1000, train accuracy 0.9375, train NLL -5.73751\n",
      "step 1100, train accuracy 0.875, train NLL -6.91006\n",
      "step 1200, train accuracy 0.875, train NLL -8.23999\n",
      "step 1300, train accuracy 0.9375, train NLL -9.60137\n",
      "step 1400, train accuracy 1, train NLL -11.1477\n",
      "step 1500, train accuracy 0.8125, train NLL -12.572\n",
      "step 1600, train accuracy 0.9375, train NLL -14.3489\n",
      "step 1700, train accuracy 0.9375, train NLL -16.3377\n",
      "step 1800, train accuracy 0.875, train NLL -18.1792\n",
      "step 1900, train accuracy 0.875, train NLL -20.1787\n"
     ]
    }
   ],
   "source": [
    "for i in range(2000):\n",
    "    if i%5 == 0:\n",
    "        shuffle = np.random.permutation(range(inputs_row_train.shape[0]))\n",
    "    inputs_row_train_batch = inputs_row_train[shuffle[shuffle.shape[0]//5*(i%5):shuffle.shape[0]//5*(i%5+1)]]\n",
    "    inputs_col_train_batch = inputs_col_train[shuffle[shuffle.shape[0]//5*(i%5):shuffle.shape[0]//5*(i%5+1)]]\n",
    "    target_row_train_batch = target_row_train[shuffle[shuffle.shape[0]//5*(i%5):shuffle.shape[0]//5*(i%5+1)]]\n",
    "    if i%100 == 0:\n",
    "        train_accuracy = accuracy.eval(feed_dict={\n",
    "                x_row: inputs_row_train_batch,\n",
    "                x_col: inputs_col_train_batch,\n",
    "                y_: target_row_train_batch, \n",
    "                keep_prob: 1.0,\n",
    "                keep_prob_col: 1.0})\n",
    "        train_NLL = cross_entropy.eval(feed_dict={\n",
    "                x_row: inputs_row_train_batch, \n",
    "                x_col: inputs_col_train_batch,\n",
    "                y_: target_row_train_batch,\n",
    "                keep_prob: 1.0,\n",
    "                keep_prob_col: 1.0})\n",
    "        print(\"step %d, train accuracy %g, train NLL %g\"%(i, train_accuracy, train_NLL))\n",
    "    train_step.run(feed_dict={x_row: inputs_row_train_batch, \n",
    "                              x_col: inputs_col_train_batch, \n",
    "                              y_: target_row_train_batch, \n",
    "                              keep_prob: 0.8,\n",
    "                              keep_prob_col: 0.8})"
   ]
  },
  {
   "cell_type": "markdown",
   "metadata": {},
   "source": [
    "## Test"
   ]
  },
  {
   "cell_type": "code",
   "execution_count": 158,
   "metadata": {
    "collapsed": false
   },
   "outputs": [
    {
     "name": "stdout",
     "output_type": "stream",
     "text": [
      "test accuracy 0.875, test NLL -22.3762\n"
     ]
    }
   ],
   "source": [
    "test_accuracy = accuracy.eval(feed_dict={\n",
    "        x_row: inputs_row_tests,\n",
    "        x_col: inputs_col_tests,\n",
    "        y_: target_row_tests, \n",
    "        keep_prob: 1.0,\n",
    "        keep_prob_col: 1.0})\n",
    "test_NLL = cross_entropy.eval(feed_dict={\n",
    "        x_row: inputs_row_tests,\n",
    "        x_col: inputs_col_tests,\n",
    "        y_: target_row_tests, \n",
    "        keep_prob: 1.0,\n",
    "        keep_prob_col: 1.0})\n",
    "print(\"test accuracy %g, test NLL %g\"%(test_accuracy, test_NLL))"
   ]
  },
  {
   "cell_type": "code",
   "execution_count": 159,
   "metadata": {
    "collapsed": false
   },
   "outputs": [
    {
     "data": {
      "text/html": [
       "<div style=\"max-height:1000px;max-width:1500px;overflow:auto;\">\n",
       "<table border=\"1\" class=\"dataframe\">\n",
       "  <thead>\n",
       "    <tr style=\"text-align: right;\">\n",
       "      <th></th>\n",
       "      <th>y1</th>\n",
       "      <th>y2</th>\n",
       "      <th>y3</th>\n",
       "      <th>y_1</th>\n",
       "      <th>y_2</th>\n",
       "      <th>y_3</th>\n",
       "    </tr>\n",
       "  </thead>\n",
       "  <tbody>\n",
       "    <tr>\n",
       "      <th>0</th>\n",
       "      <td>0.302832</td>\n",
       "      <td>0.102956</td>\n",
       "      <td>0.594212</td>\n",
       "      <td>0.021277</td>\n",
       "      <td>0.042553</td>\n",
       "      <td>0.936170</td>\n",
       "    </tr>\n",
       "    <tr>\n",
       "      <th>1</th>\n",
       "      <td>0.220786</td>\n",
       "      <td>0.742158</td>\n",
       "      <td>0.037056</td>\n",
       "      <td>0.226667</td>\n",
       "      <td>0.693333</td>\n",
       "      <td>0.080000</td>\n",
       "    </tr>\n",
       "    <tr>\n",
       "      <th>2</th>\n",
       "      <td>0.808737</td>\n",
       "      <td>0.152558</td>\n",
       "      <td>0.038705</td>\n",
       "      <td>0.808511</td>\n",
       "      <td>0.191489</td>\n",
       "      <td>0.000000</td>\n",
       "    </tr>\n",
       "    <tr>\n",
       "      <th>3</th>\n",
       "      <td>0.808737</td>\n",
       "      <td>0.152558</td>\n",
       "      <td>0.038705</td>\n",
       "      <td>0.610000</td>\n",
       "      <td>0.350000</td>\n",
       "      <td>0.040000</td>\n",
       "    </tr>\n",
       "    <tr>\n",
       "      <th>4</th>\n",
       "      <td>0.221601</td>\n",
       "      <td>0.030962</td>\n",
       "      <td>0.747438</td>\n",
       "      <td>0.541667</td>\n",
       "      <td>0.062500</td>\n",
       "      <td>0.395833</td>\n",
       "    </tr>\n",
       "    <tr>\n",
       "      <th>5</th>\n",
       "      <td>0.220786</td>\n",
       "      <td>0.742158</td>\n",
       "      <td>0.037056</td>\n",
       "      <td>0.191489</td>\n",
       "      <td>0.617021</td>\n",
       "      <td>0.191489</td>\n",
       "    </tr>\n",
       "    <tr>\n",
       "      <th>6</th>\n",
       "      <td>0.002989</td>\n",
       "      <td>0.703813</td>\n",
       "      <td>0.293198</td>\n",
       "      <td>0.013333</td>\n",
       "      <td>0.546667</td>\n",
       "      <td>0.440000</td>\n",
       "    </tr>\n",
       "    <tr>\n",
       "      <th>7</th>\n",
       "      <td>0.396428</td>\n",
       "      <td>0.229226</td>\n",
       "      <td>0.374346</td>\n",
       "      <td>0.489796</td>\n",
       "      <td>0.190476</td>\n",
       "      <td>0.319728</td>\n",
       "    </tr>\n",
       "    <tr>\n",
       "      <th>8</th>\n",
       "      <td>0.347797</td>\n",
       "      <td>0.633851</td>\n",
       "      <td>0.018353</td>\n",
       "      <td>0.442177</td>\n",
       "      <td>0.517007</td>\n",
       "      <td>0.040816</td>\n",
       "    </tr>\n",
       "    <tr>\n",
       "      <th>9</th>\n",
       "      <td>0.174303</td>\n",
       "      <td>0.678877</td>\n",
       "      <td>0.146819</td>\n",
       "      <td>0.142857</td>\n",
       "      <td>0.802721</td>\n",
       "      <td>0.054422</td>\n",
       "    </tr>\n",
       "    <tr>\n",
       "      <th>10</th>\n",
       "      <td>0.302832</td>\n",
       "      <td>0.102956</td>\n",
       "      <td>0.594212</td>\n",
       "      <td>0.020408</td>\n",
       "      <td>0.047619</td>\n",
       "      <td>0.931973</td>\n",
       "    </tr>\n",
       "    <tr>\n",
       "      <th>11</th>\n",
       "      <td>0.680355</td>\n",
       "      <td>0.255888</td>\n",
       "      <td>0.063757</td>\n",
       "      <td>0.586667</td>\n",
       "      <td>0.360000</td>\n",
       "      <td>0.053333</td>\n",
       "    </tr>\n",
       "    <tr>\n",
       "      <th>12</th>\n",
       "      <td>0.808737</td>\n",
       "      <td>0.152558</td>\n",
       "      <td>0.038705</td>\n",
       "      <td>0.853333</td>\n",
       "      <td>0.106667</td>\n",
       "      <td>0.040000</td>\n",
       "    </tr>\n",
       "    <tr>\n",
       "      <th>13</th>\n",
       "      <td>0.347797</td>\n",
       "      <td>0.633851</td>\n",
       "      <td>0.018353</td>\n",
       "      <td>0.145833</td>\n",
       "      <td>0.833333</td>\n",
       "      <td>0.020833</td>\n",
       "    </tr>\n",
       "    <tr>\n",
       "      <th>14</th>\n",
       "      <td>0.808737</td>\n",
       "      <td>0.152558</td>\n",
       "      <td>0.038705</td>\n",
       "      <td>0.816327</td>\n",
       "      <td>0.129252</td>\n",
       "      <td>0.054422</td>\n",
       "    </tr>\n",
       "    <tr>\n",
       "      <th>15</th>\n",
       "      <td>0.008006</td>\n",
       "      <td>0.319671</td>\n",
       "      <td>0.672323</td>\n",
       "      <td>0.013333</td>\n",
       "      <td>0.573333</td>\n",
       "      <td>0.413333</td>\n",
       "    </tr>\n",
       "    <tr>\n",
       "      <th>16</th>\n",
       "      <td>0.004769</td>\n",
       "      <td>0.064264</td>\n",
       "      <td>0.930967</td>\n",
       "      <td>0.000000</td>\n",
       "      <td>0.063830</td>\n",
       "      <td>0.936170</td>\n",
       "    </tr>\n",
       "    <tr>\n",
       "      <th>17</th>\n",
       "      <td>0.508669</td>\n",
       "      <td>0.115329</td>\n",
       "      <td>0.376002</td>\n",
       "      <td>0.812500</td>\n",
       "      <td>0.062500</td>\n",
       "      <td>0.125000</td>\n",
       "    </tr>\n",
       "    <tr>\n",
       "      <th>18</th>\n",
       "      <td>0.794528</td>\n",
       "      <td>0.199817</td>\n",
       "      <td>0.005655</td>\n",
       "      <td>0.826667</td>\n",
       "      <td>0.160000</td>\n",
       "      <td>0.013333</td>\n",
       "    </tr>\n",
       "    <tr>\n",
       "      <th>19</th>\n",
       "      <td>0.553356</td>\n",
       "      <td>0.090296</td>\n",
       "      <td>0.356348</td>\n",
       "      <td>0.270833</td>\n",
       "      <td>0.083333</td>\n",
       "      <td>0.645833</td>\n",
       "    </tr>\n",
       "    <tr>\n",
       "      <th>20</th>\n",
       "      <td>0.383391</td>\n",
       "      <td>0.013147</td>\n",
       "      <td>0.603463</td>\n",
       "      <td>0.480000</td>\n",
       "      <td>0.013333</td>\n",
       "      <td>0.506667</td>\n",
       "    </tr>\n",
       "    <tr>\n",
       "      <th>21</th>\n",
       "      <td>0.541570</td>\n",
       "      <td>0.119589</td>\n",
       "      <td>0.338841</td>\n",
       "      <td>0.551724</td>\n",
       "      <td>0.206897</td>\n",
       "      <td>0.241379</td>\n",
       "    </tr>\n",
       "    <tr>\n",
       "      <th>22</th>\n",
       "      <td>0.276347</td>\n",
       "      <td>0.456556</td>\n",
       "      <td>0.267097</td>\n",
       "      <td>0.258621</td>\n",
       "      <td>0.482759</td>\n",
       "      <td>0.258621</td>\n",
       "    </tr>\n",
       "    <tr>\n",
       "      <th>23</th>\n",
       "      <td>0.554793</td>\n",
       "      <td>0.214013</td>\n",
       "      <td>0.231194</td>\n",
       "      <td>0.680851</td>\n",
       "      <td>0.127660</td>\n",
       "      <td>0.191489</td>\n",
       "    </tr>\n",
       "  </tbody>\n",
       "</table>\n",
       "</div>"
      ],
      "text/plain": [
       "          y1        y2        y3       y_1       y_2       y_3\n",
       "0   0.302832  0.102956  0.594212  0.021277  0.042553  0.936170\n",
       "1   0.220786  0.742158  0.037056  0.226667  0.693333  0.080000\n",
       "2   0.808737  0.152558  0.038705  0.808511  0.191489  0.000000\n",
       "3   0.808737  0.152558  0.038705  0.610000  0.350000  0.040000\n",
       "4   0.221601  0.030962  0.747438  0.541667  0.062500  0.395833\n",
       "5   0.220786  0.742158  0.037056  0.191489  0.617021  0.191489\n",
       "6   0.002989  0.703813  0.293198  0.013333  0.546667  0.440000\n",
       "7   0.396428  0.229226  0.374346  0.489796  0.190476  0.319728\n",
       "8   0.347797  0.633851  0.018353  0.442177  0.517007  0.040816\n",
       "9   0.174303  0.678877  0.146819  0.142857  0.802721  0.054422\n",
       "10  0.302832  0.102956  0.594212  0.020408  0.047619  0.931973\n",
       "11  0.680355  0.255888  0.063757  0.586667  0.360000  0.053333\n",
       "12  0.808737  0.152558  0.038705  0.853333  0.106667  0.040000\n",
       "13  0.347797  0.633851  0.018353  0.145833  0.833333  0.020833\n",
       "14  0.808737  0.152558  0.038705  0.816327  0.129252  0.054422\n",
       "15  0.008006  0.319671  0.672323  0.013333  0.573333  0.413333\n",
       "16  0.004769  0.064264  0.930967  0.000000  0.063830  0.936170\n",
       "17  0.508669  0.115329  0.376002  0.812500  0.062500  0.125000\n",
       "18  0.794528  0.199817  0.005655  0.826667  0.160000  0.013333\n",
       "19  0.553356  0.090296  0.356348  0.270833  0.083333  0.645833\n",
       "20  0.383391  0.013147  0.603463  0.480000  0.013333  0.506667\n",
       "21  0.541570  0.119589  0.338841  0.551724  0.206897  0.241379\n",
       "22  0.276347  0.456556  0.267097  0.258621  0.482759  0.258621\n",
       "23  0.554793  0.214013  0.231194  0.680851  0.127660  0.191489"
      ]
     },
     "execution_count": 159,
     "metadata": {},
     "output_type": "execute_result"
    }
   ],
   "source": [
    "pd.set_option('display.max_rows', None)\n",
    "compare_y = y.eval(feed_dict={\n",
    "                    x_row: inputs_row_tests, \n",
    "                    x_col: inputs_col_tests, \n",
    "                    y_: target_row_tests, \n",
    "                    keep_prob: 1.0, \n",
    "                    keep_prob_col: 1.0})\n",
    "compare_y = compare_y.reshape(compare_y.shape[0], compare_y.shape[1])\n",
    "compare_y_ = y_.eval(feed_dict={\n",
    "                        x_row: inputs_row_tests,\n",
    "                        x_col: inputs_col_tests,\n",
    "                        y_: target_row_tests, \n",
    "                        keep_prob: 1.0,\n",
    "                        keep_prob_col: 1.0})\n",
    "compare_y_ = compare_y_.reshape(compare_y_.shape[0], compare_y_.shape[1])\n",
    "compare = pd.DataFrame(np.concatenate((compare_y, compare_y_), axis=1))\n",
    "compare.columns = [\"y1\",\"y2\",\"y3\",\"y_1\",\"y_2\",\"y_3\"]\n",
    "compare"
   ]
  },
  {
   "cell_type": "code",
   "execution_count": null,
   "metadata": {
    "collapsed": true
   },
   "outputs": [],
   "source": []
  }
 ],
 "metadata": {
  "kernelspec": {
   "display_name": "Python 2",
   "language": "python",
   "name": "python2"
  },
  "language_info": {
   "codemirror_mode": {
    "name": "ipython",
    "version": 2
   },
   "file_extension": ".py",
   "mimetype": "text/x-python",
   "name": "python",
   "nbconvert_exporter": "python",
   "pygments_lexer": "ipython2",
   "version": "2.7.8"
  },
  "widgets": {
   "state": {},
   "version": "1.1.2"
  }
 },
 "nbformat": 4,
 "nbformat_minor": 0
}
