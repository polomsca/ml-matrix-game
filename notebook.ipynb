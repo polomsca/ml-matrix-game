{
 "cells": [
  {
   "cell_type": "markdown",
   "metadata": {},
   "source": [
    "# Matrix games in machine learning\n",
    "\n",
    "## The list so far\n",
    "\n",
    "- Costa-Gomes et al (2001) : Cognition and behavior in normal-form games, an experimental study\n",
    "\n",
    "- Haruvy et al (2001) : Modeling and testing for heterogeneity in observed strategic behavior\n",
    "\n",
    "- Haruvy and Stahl (2007) : Equilibrium selection and bounded rationality in symmetric normal-form games\n",
    "\n",
    "- Rogers et al (2009) : Heterogeneous quantal response equilibrium and cognitive hierarchies\n",
    "\n",
    "- Stahl and Haruvy (2008) : Level-n bounded rationality and dominated strategies in normal-form games\n",
    "\n",
    "- Stahl and Wilson (1994) : Experimental evidence on players' models of other players\n",
    "\n",
    "- Stahl and Wilson (1995) : On players' models of other players, theory and experimental evidence\n",
    "\n",
    "## The network so far"
   ]
  },
  {
   "cell_type": "code",
   "execution_count": 1,
   "metadata": {
    "collapsed": true
   },
   "outputs": [],
   "source": [
    "import tensorflow as tf\n",
    "import numpy as np"
   ]
  },
  {
   "cell_type": "code",
   "execution_count": null,
   "metadata": {
    "collapsed": true
   },
   "outputs": [],
   "source": []
  }
 ],
 "metadata": {
  "kernelspec": {
   "display_name": "Python 2",
   "language": "python",
   "name": "python2"
  },
  "language_info": {
   "codemirror_mode": {
    "name": "ipython",
    "version": 2
   },
   "file_extension": ".py",
   "mimetype": "text/x-python",
   "name": "python",
   "nbconvert_exporter": "python",
   "pygments_lexer": "ipython2",
   "version": "2.7.8"
  },
  "widgets": {
   "state": {},
   "version": "1.1.2"
  }
 },
 "nbformat": 4,
 "nbformat_minor": 0
}
