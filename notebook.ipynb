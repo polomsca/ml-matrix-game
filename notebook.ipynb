{
 "cells": [
  {
   "cell_type": "markdown",
   "metadata": {},
   "source": [
    "# FFNet (Hartford et al 2016)"
   ]
  },
  {
   "cell_type": "markdown",
   "metadata": {},
   "source": [
    "## Start session"
   ]
  },
  {
   "cell_type": "code",
   "execution_count": 147,
   "metadata": {
    "collapsed": true
   },
   "outputs": [],
   "source": [
    "import tensorflow as tf\n",
    "import numpy as np\n",
    "import pandas as pd\n",
    "sess = tf.InteractiveSession()"
   ]
  },
  {
   "cell_type": "markdown",
   "metadata": {},
   "source": [
    "## Import data"
   ]
  },
  {
   "cell_type": "code",
   "execution_count": 277,
   "metadata": {
    "collapsed": false
   },
   "outputs": [],
   "source": [
    "import_csv = pd.read_csv(\"games3x3ffnet.csv\")\n",
    "inputs_set = np.zeros((import_csv.shape[0],9))\n",
    "target_set = np.zeros((import_csv.shape[0],3))\n",
    "for i in range(import_csv.shape[0]):\n",
    "    inputs_set[i] = [import_csv['matrix1'][i],import_csv['matrix2'][i],import_csv['matrix3'][i],import_csv['matrix4'][i],import_csv['matrix5'][i],import_csv['matrix6'][i],import_csv['matrix7'][i],import_csv['matrix8'][i],import_csv['matrix9'][i]]\n",
    "    target_set[i] = [import_csv['choice1'][i],import_csv['choice2'][i],import_csv['choice3'][i]]"
   ]
  },
  {
   "cell_type": "markdown",
   "metadata": {},
   "source": [
    "## Define train and test sets"
   ]
  },
  {
   "cell_type": "code",
   "execution_count": 278,
   "metadata": {
    "collapsed": false
   },
   "outputs": [],
   "source": [
    "shuffle_index_set = np.random.permutation(range(inputs_set.shape[0]))"
   ]
  },
  {
   "cell_type": "code",
   "execution_count": 292,
   "metadata": {
    "collapsed": false
   },
   "outputs": [],
   "source": [
    "train_index_set = shuffle_index[0:55] \n",
    "tests_index_set = shuffle_index[55:68]\n",
    "train_inputs_set = inputs_set[train_index_set]\n",
    "train_target_set = target_set[train_index_set]\n",
    "tests_inputs_set = inputs_set[tests_index_set]\n",
    "tests_target_set = target_set[tests_index_set]"
   ]
  },
  {
   "cell_type": "markdown",
   "metadata": {},
   "source": [
    "## Define input and target (placeholders)"
   ]
  },
  {
   "cell_type": "code",
   "execution_count": 143,
   "metadata": {
    "collapsed": true
   },
   "outputs": [],
   "source": [
    "x = tf.placeholder(tf.float32, shape=[None, 9])\n",
    "y_ = tf.placeholder(tf.float32, shape=[None, 3])"
   ]
  },
  {
   "cell_type": "markdown",
   "metadata": {},
   "source": [
    "## Define weight and bias (variables)"
   ]
  },
  {
   "cell_type": "code",
   "execution_count": 284,
   "metadata": {
    "collapsed": true
   },
   "outputs": [],
   "source": [
    "W = tf.Variable(tf.zeros([9,3]))\n",
    "b = tf.Variable(tf.zeros([3]))\n",
    "sess.run(tf.global_variables_initializer())"
   ]
  },
  {
   "cell_type": "markdown",
   "metadata": {},
   "source": [
    "## Define model and loss function"
   ]
  },
  {
   "cell_type": "code",
   "execution_count": 145,
   "metadata": {
    "collapsed": true
   },
   "outputs": [],
   "source": [
    "y = tf.matmul(x,W) + b\n",
    "cross_entropy = tf.reduce_mean(tf.nn.softmax_cross_entropy_with_logits(y, y_))"
   ]
  },
  {
   "cell_type": "markdown",
   "metadata": {},
   "source": [
    "## Train model"
   ]
  },
  {
   "cell_type": "code",
   "execution_count": 285,
   "metadata": {
    "collapsed": false
   },
   "outputs": [],
   "source": [
    "train_step = tf.train.GradientDescentOptimizer(0.5).minimize(cross_entropy)\n",
    "for i in range(100):\n",
    "    shuffle_index_batch = np.random.permutation(range(train_inputs_set.shape[0]))[0:10]\n",
    "    train_inputs_batch = train_inputs_set[shuffle_index_batch]\n",
    "    train_target_batch = train_target_set[shuffle_index_batch]\n",
    "    train_step.run(feed_dict={x: train_inputs_batch, y_: train_target_batch})"
   ]
  },
  {
   "cell_type": "markdown",
   "metadata": {},
   "source": [
    "## Evaluate performance"
   ]
  },
  {
   "cell_type": "code",
   "execution_count": 293,
   "metadata": {
    "collapsed": false
   },
   "outputs": [
    {
     "name": "stdout",
     "output_type": "stream",
     "text": [
      "0.615385\n"
     ]
    }
   ],
   "source": [
    "correct_prediction = tf.equal(tf.argmax(y,1), tf.argmax(y_,1))\n",
    "accuracy = tf.reduce_mean(tf.cast(correct_prediction, tf.float32))\n",
    "print(accuracy.eval(feed_dict={x: tests_inputs_set, y_: tests_target_set}))"
   ]
  },
  {
   "cell_type": "markdown",
   "metadata": {},
   "source": [
    "# GameNet (Hartford et al 2016)"
   ]
  },
  {
   "cell_type": "markdown",
   "metadata": {},
   "source": [
    "## Build model"
   ]
  },
  {
   "cell_type": "markdown",
   "metadata": {},
   "source": [
    "### Input\n",
    "\n",
    "The input is $ 2 $ matricies  \n",
    "where one is the row player payoff matrix  \n",
    "where the other is the column player payoff matrix  \n",
    "\n",
    "### Hidden layer 1\n",
    "\n",
    "The first hidden layer is $ 50 $ matricies in the form  \n",
    "\n",
    "$$ H_{1,k} = relu(w_i U_i + b) $$  \n",
    "where $ i $ ranges over the set {1, ... 6}  \n",
    "where $ k $ ranges over the set {1, ... 50}  \n",
    "where $ U_1 $ is the row player payoff matrix  \n",
    "where $ U_2 $ is the row player payoff matrix after column-wise pooling  \n",
    "where $ U_3 $ is the row player payoff matrix after row-wise pooling  \n",
    "where $ U_4 $ is the column player payoff matrix  \n",
    "where $ U_5 $ is the column player payoff matrix after column-wise pooling  \n",
    "where $ U_6 $ is the column player payoff matrix after row-wise pooling  \n",
    "\n",
    "### Hidden layer 2\n",
    "\n",
    "The second hidden feature layer is $ 50 $ matricies in the form  \n",
    "\n",
    "$$ H_{2,k} = relu(w_i H_i + b) $$  \n",
    "where $ i $ ranges over the set {1, ... 150}  \n",
    "where $ k $ ranges over the set {1, ... 50}  \n",
    "where $ H_1 $ is $ H_{1,1} $  \n",
    "where $ H_2 $ is $ H_{1,1} $ after column-wise pooling  \n",
    "where $ H_3 $ is $ H_{1,1} $ after row-wise pooling  \n",
    "where $ H_4 $ is $ H_{1,2} $    \n",
    "...  \n",
    "where $ H_{150} $ is $ H_{1,50} $ after row-wise pooling\n",
    "\n",
    "### Action response layer 0\n",
    "\n",
    "The zeroth action response layer is a mixture of distributions in the form  \n",
    "\n",
    "$$ R_0 = w_i f_i $$  \n",
    "where $ i $ ranges over the set {1, ... 50}  \n",
    "where $ f_i = softmax(H_i z) $  \n",
    "where $ H_1 $ is $ H_{2,1} $  \n",
    "...  \n",
    "where $ H_{50} $ is $ H_{2,50} $  \n",
    "where $ z $ is a column vector of ones\n",
    "\n",
    "### Action response layer 1\n",
    "\n",
    "The first action response layer is a mixture of distributions in the form  \n",
    "\n",
    "$$ R_1 = softmax(\\lambda(v_j ((w_i H_i) \\cdot R^c_0))) $$  \n",
    "where $ i $ ranges over the set {1, ... 50}  \n",
    "where $ j $ ranges over the set {0, ... 0}  \n",
    "where $ H_1 $ is $ H_{2,1} $  \n",
    "...  \n",
    "where $ H_{50} $ is $ H_{2,50} $  \n",
    "where $ R^c_0 $ is the column player zeroth action response layer  \n",
    "\n",
    "### Output\n",
    "\n",
    "The output is a mixture of distributions in the form  \n",
    "\n",
    "$$ y = w_i R_i $$  \n",
    "where $ i $ ranges over the set {0, ... 1}  "
   ]
  },
  {
   "cell_type": "code",
   "execution_count": null,
   "metadata": {
    "collapsed": true
   },
   "outputs": [],
   "source": [
    "# input\n",
    "x = tf.placeholder(tf.float32, [None, None])\n",
    "# weights\n",
    "W = tf.Variable(tf.zeros([784, 10]))\n",
    "b = tf.Variable(tf.zeros([10]))\n",
    "# model\n",
    "y = tf.nn.softmax(tf.matmul(x, W) + b)"
   ]
  },
  {
   "cell_type": "markdown",
   "metadata": {},
   "source": [
    "## Add optimizer"
   ]
  },
  {
   "cell_type": "markdown",
   "metadata": {},
   "source": [
    "- Adam\n",
    "    - initial learning rate = $ 2e-4 $\n",
    "    - $ \\beta_1 = 0.9 $\n",
    "    - $ \\beta_2 = 0.999 $\n",
    "    - $ \\epsilon = 1e-8 $\n",
    "- Dropout\n",
    "    - drop probability = $ 0.2 $\n",
    "    - $ L_1 $ regularization parameter = $ 0.01 $\n",
    "- $ 25000 $ epochs\n",
    "- Projected gradient algorithm (modified SGD)"
   ]
  },
  {
   "cell_type": "code",
   "execution_count": 26,
   "metadata": {
    "collapsed": false
   },
   "outputs": [],
   "source": [
    "# dropout\n",
    "keep_prob = tf.placeholder(tf.float32)\n",
    "h_fc1_drop = tf.nn.dropout(h_fc1, keep_prob)\n",
    "\n",
    "\n",
    "\n",
    "# cost function (here defined by cross-entropy)\n",
    "y_ = tf.placeholder(tf.float32, [None, 10])\n",
    "cross_entropy = tf.reduce_mean(-tf.reduce_sum(y_ * tf.log(y), reduction_indices=[1]))\n",
    "# optimization algorithm\n",
    "train_step = tf.train.AdamOptimizer(2e-4, 0.9, 0.999, 1e-8).minimize(cross_entropy)\n",
    "# initialize variables\n",
    "init = tf.global_variables_initializer()\n",
    "# launch model in session\n",
    "sess = tf.Session()\n",
    "sess.run(init)\n",
    "# run training step x times\n",
    "for i in range(1000):\n",
    "  batch_xs, batch_ys = mnist.train.next_batch(100)\n",
    "  sess.run(train_step, feed_dict={x: batch_xs, y_: batch_ys})"
   ]
  },
  {
   "cell_type": "markdown",
   "metadata": {},
   "source": [
    "## Evaluate performance"
   ]
  },
  {
   "cell_type": "markdown",
   "metadata": {},
   "source": [
    "- 10-fold-cross-validation"
   ]
  },
  {
   "cell_type": "code",
   "execution_count": null,
   "metadata": {
    "collapsed": true
   },
   "outputs": [],
   "source": [
    "correct_prediction = tf.equal(tf.argmax(y,1), tf.argmax(y_,1))\n",
    "accuracy = tf.reduce_mean(tf.cast(correct_prediction, tf.float32))\n",
    "# accuracy?\n",
    "print(sess.run(accuracy, feed_dict={x: mnist.test.images, y_: mnist.test.labels}))"
   ]
  }
 ],
 "metadata": {
  "kernelspec": {
   "display_name": "Python 2",
   "language": "python",
   "name": "python2"
  },
  "language_info": {
   "codemirror_mode": {
    "name": "ipython",
    "version": 2
   },
   "file_extension": ".py",
   "mimetype": "text/x-python",
   "name": "python",
   "nbconvert_exporter": "python",
   "pygments_lexer": "ipython2",
   "version": "2.7.8"
  },
  "widgets": {
   "state": {},
   "version": "1.1.2"
  }
 },
 "nbformat": 4,
 "nbformat_minor": 0
}
