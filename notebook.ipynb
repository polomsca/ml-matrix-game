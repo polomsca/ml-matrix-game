{
 "cells": [
  {
   "cell_type": "markdown",
   "metadata": {},
   "source": [
    "# Machine learning for matrix games"
   ]
  },
  {
   "cell_type": "markdown",
   "metadata": {},
   "source": [
    "## Load packages"
   ]
  },
  {
   "cell_type": "code",
   "execution_count": 3,
   "metadata": {
    "collapsed": true
   },
   "outputs": [],
   "source": [
    "import tensorflow as tf"
   ]
  },
  {
   "cell_type": "markdown",
   "metadata": {},
   "source": [
    "## Import data"
   ]
  },
  {
   "cell_type": "code",
   "execution_count": null,
   "metadata": {
    "collapsed": false
   },
   "outputs": [],
   "source": []
  },
  {
   "cell_type": "markdown",
   "metadata": {},
   "source": [
    "## Build model"
   ]
  },
  {
   "cell_type": "markdown",
   "metadata": {},
   "source": [
    "### Input\n",
    "\n",
    "The input is $ 2 $ matricies  \n",
    "where one is the row player payoff matrix  \n",
    "where the other is the column player payoff matrix  \n",
    "\n",
    "### Hidden layer 1\n",
    "\n",
    "The first hidden layer is $ 50 $ matricies in the form  \n",
    "$ H_{1,k} = relu(w_i U_i + b) $  \n",
    "where $ i $ ranges over the set {1, ... 6}  \n",
    "where $ k $ ranges over the set {1, ... 50}  \n",
    "where $ U_1 $ is the row player payoff matrix  \n",
    "where $ U_2 $ is the row player payoff matrix after column-wise pooling  \n",
    "where $ U_3 $ is the row player payoff matrix after row-wise pooling  \n",
    "where $ U_4 $ is the column player payoff matrix  \n",
    "where $ U_5 $ is the column player payoff matrix after column-wise pooling  \n",
    "where $ U_6 $ is the column player payoff matrix after row-wise pooling  \n",
    "\n",
    "### Hidden layer 2\n",
    "\n",
    "The second hidden feature layer is $ 50 $ matricies in the form  \n",
    "$ H_{2,k} = relu(w_i H_i + b) $  \n",
    "where $ i $ ranges over the set {1, ... 150}  \n",
    "where $ k $ ranges over the set {1, ... 50}  \n",
    "where $ H_1 $ is $ H_{1,1} $  \n",
    "where $ H_2 $ is $ H_{1,1} $ after column-wise pooling  \n",
    "where $ H_3 $ is $ H_{1,1} $ after row-wise pooling  \n",
    "where $ H_4 $ is $ H_{1,2} $    \n",
    "...  \n",
    "where $ H_{150} $ is $ H_{1,50} $ after row-wise pooling\n",
    "\n",
    "### Action response layer 0\n",
    "\n",
    "The zeroth action response layer is a mixture of distributions in the form  \n",
    "$ R_0 = w_i f_i $  \n",
    "where $ i $ ranges over the set {1, ... 50}  \n",
    "where $ f_i = softmax(H_i z) $  \n",
    "where $ H_1 $ is $ H_{2,1} $  \n",
    "...  \n",
    "where $ H_{50} $ is $ H_{2,50} $  \n",
    "where $ z $ is a column vector of ones\n",
    "\n",
    "### Action response layer 1\n",
    "\n",
    "The first action response layer is a mixture of distributions in the form  \n",
    "$ R_1 = softmax(\\lambda(v_j ((w_i H_i) \\cdot R^c_0))) $  \n",
    "where $ i $ ranges over the set {1, ... 50}  \n",
    "where $ j $ ranges over the set {0, ... 0}  \n",
    "where $ H_1 $ is $ H_{2,1} $  \n",
    "...  \n",
    "where $ H_{50} $ is $ H_{2,50} $  \n",
    "where $ R^c_0 $ is the column player zeroth action response layer  \n",
    "\n",
    "### Output\n",
    "\n",
    "The output is a mixture of distributions in the form  \n",
    "$ y = w_i R_i $  \n",
    "where $ i $ ranges over the set {0, ... 1}  "
   ]
  },
  {
   "cell_type": "code",
   "execution_count": null,
   "metadata": {
    "collapsed": true
   },
   "outputs": [],
   "source": [
    "# input\n",
    "x = tf.placeholder(tf.float32, [None, None])\n",
    "# weights\n",
    "W = tf.Variable(tf.zeros([784, 10]))\n",
    "b = tf.Variable(tf.zeros([10]))\n",
    "# model\n",
    "y = tf.nn.softmax(tf.matmul(x, W) + b)"
   ]
  },
  {
   "cell_type": "markdown",
   "metadata": {},
   "source": [
    "## Add optimizer"
   ]
  },
  {
   "cell_type": "markdown",
   "metadata": {},
   "source": [
    "- Adam\n",
    "    - initial learning rate = $ 2e-4 $\n",
    "    - $ \\beta_1 = 0.9 $\n",
    "    - $ \\beta_2 = 0.999 $\n",
    "    - $ \\epsilon = 1e-8 $\n",
    "- Dropout\n",
    "    - drop probability = $ 0.2 $\n",
    "    - $ L_1 $ regularization parameter = $ 0.01 $\n",
    "- $ 25000 $ epochs\n",
    "- Projected gradient algorithm (modified SGD)"
   ]
  },
  {
   "cell_type": "code",
   "execution_count": 26,
   "metadata": {
    "collapsed": false
   },
   "outputs": [],
   "source": [
    "# cost function (here defined by cross-entropy)\n",
    "y_ = tf.placeholder(tf.float32, [None, 10])\n",
    "cross_entropy = tf.reduce_mean(-tf.reduce_sum(y_ * tf.log(y), reduction_indices=[1]))\n",
    "# optimization algorithm\n",
    "train_step = tf.train.AdamOptimizer(2e-4, 0.9, 0.999, 1e-8).minimize(cross_entropy)\n",
    "# initialize variables\n",
    "init = tf.global_variables_initializer()\n",
    "# launch model in session\n",
    "sess = tf.Session()\n",
    "sess.run(init)\n",
    "# run training step x times\n",
    "for i in range(1000):\n",
    "  batch_xs, batch_ys = mnist.train.next_batch(100)\n",
    "  sess.run(train_step, feed_dict={x: batch_xs, y_: batch_ys})"
   ]
  },
  {
   "cell_type": "markdown",
   "metadata": {},
   "source": [
    "## Evaluate performance"
   ]
  },
  {
   "cell_type": "markdown",
   "metadata": {},
   "source": [
    "- 10-fold-cross-validation"
   ]
  },
  {
   "cell_type": "code",
   "execution_count": null,
   "metadata": {
    "collapsed": true
   },
   "outputs": [],
   "source": [
    "correct_prediction = tf.equal(tf.argmax(y,1), tf.argmax(y_,1))\n",
    "accuracy = tf.reduce_mean(tf.cast(correct_prediction, tf.float32))\n",
    "# accuracy?\n",
    "print(sess.run(accuracy, feed_dict={x: mnist.test.images, y_: mnist.test.labels}))"
   ]
  }
 ],
 "metadata": {
  "kernelspec": {
   "display_name": "Python 2",
   "language": "python",
   "name": "python2"
  },
  "language_info": {
   "codemirror_mode": {
    "name": "ipython",
    "version": 2
   },
   "file_extension": ".py",
   "mimetype": "text/x-python",
   "name": "python",
   "nbconvert_exporter": "python",
   "pygments_lexer": "ipython2",
   "version": "2.7.8"
  },
  "widgets": {
   "state": {},
   "version": "1.1.2"
  }
 },
 "nbformat": 4,
 "nbformat_minor": 0
}
