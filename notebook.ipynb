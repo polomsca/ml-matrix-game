{
 "cells": [
  {
   "cell_type": "markdown",
   "metadata": {},
   "source": [
    "# FFNet, permuted (Hartford et al 2016)"
   ]
  },
  {
   "cell_type": "markdown",
   "metadata": {},
   "source": [
    "## Still to do\n",
    "- Implement L1 regularization\n",
    "- Implement projected gradient descent\n",
    "- Achieve satisfactory performance on model"
   ]
  },
  {
   "cell_type": "markdown",
   "metadata": {},
   "source": [
    "## Session, start"
   ]
  },
  {
   "cell_type": "code",
   "execution_count": 2,
   "metadata": {
    "collapsed": true
   },
   "outputs": [],
   "source": [
    "import tensorflow as tf\n",
    "import numpy as np\n",
    "import pandas as pd\n",
    "sess = tf.InteractiveSession()"
   ]
  },
  {
   "cell_type": "markdown",
   "metadata": {},
   "source": [
    "## Data, import and augment"
   ]
  },
  {
   "cell_type": "code",
   "execution_count": 3,
   "metadata": {
    "collapsed": false
   },
   "outputs": [],
   "source": [
    "import_csv = pd.read_csv(\"games3x3.csv\")\n",
    "p = [[[1,0,0],[0,1,0],[0,0,1]],[[1,0,0],[0,0,1],[0,1,0]],\n",
    "     [[0,1,0],[1,0,0],[0,0,1]],[[0,1,0],[0,0,1],[1,0,0]],\n",
    "     [[0,0,1],[1,0,0],[0,1,0]],[[0,0,1],[0,1,0],[1,0,0]]]\n",
    "inputs_set = np.zeros((import_csv.shape[0]*6,18))\n",
    "target_set = np.zeros((import_csv.shape[0]*6,3))\n",
    "for i in range(import_csv.shape[0]*6)[::6]:\n",
    "    a = np.matrix(import_csv['matrix'][i/6])\n",
    "    for j in range(6):\n",
    "        b = a*p[j]\n",
    "        c = np.array(b).flatten()\n",
    "        d = np.transpose(a)\n",
    "        e = d*p[j]\n",
    "        f = np.array(e).flatten()\n",
    "        inputs_set[i+j] = np.concatenate((c, f), axis=0)\n",
    "        target_set[i+j] = np.matrix(import_csv['choice'][i/6])\n",
    "\n",
    "for k in range(1,6):\n",
    "    inputs_tmp = np.zeros((import_csv.shape[0]*6,18))\n",
    "    target_tmp = np.zeros((import_csv.shape[0]*6,3))\n",
    "    for i in range(import_csv.shape[0]*6)[::6]:\n",
    "        a = p[k]*np.matrix(import_csv['matrix'][i/6])\n",
    "        for j in range(6):\n",
    "            b = a*p[j]\n",
    "            c = np.array(b).flatten()\n",
    "            d = np.transpose(a)\n",
    "            e = d*p[j]\n",
    "            f = np.array(e).flatten()\n",
    "            inputs_tmp[i+j] = np.concatenate((c, f), axis=0)\n",
    "            target_tmp[i+j] = np.transpose(p[k]*np.transpose(np.matrix(import_csv['choice'][i/6])))\n",
    "    inputs_set = np.concatenate((inputs_set, inputs_tmp), axis=0)\n",
    "    target_set = np.concatenate((target_set, target_tmp), axis=0)"
   ]
  },
  {
   "cell_type": "markdown",
   "metadata": {},
   "source": [
    "## Data, define training and test sets"
   ]
  },
  {
   "cell_type": "code",
   "execution_count": 4,
   "metadata": {
    "collapsed": false
   },
   "outputs": [],
   "source": [
    "shuffle_index_set = np.random.permutation(range(inputs_set.shape[0]))"
   ]
  },
  {
   "cell_type": "code",
   "execution_count": 5,
   "metadata": {
    "collapsed": false
   },
   "outputs": [],
   "source": [
    "train_index_set = shuffle_index_set[0:inputs_set.shape[0]/5*4] \n",
    "tests_index_set = shuffle_index_set[inputs_set.shape[0]/5*4:inputs_set.shape[0]]\n",
    "train_inputs_set = inputs_set[train_index_set]\n",
    "train_target_set = target_set[train_index_set]\n",
    "tests_inputs_set = inputs_set[tests_index_set]\n",
    "tests_target_set = target_set[tests_index_set]"
   ]
  },
  {
   "cell_type": "markdown",
   "metadata": {},
   "source": [
    "## Model, define input and target layer"
   ]
  },
  {
   "cell_type": "code",
   "execution_count": 6,
   "metadata": {
    "collapsed": true
   },
   "outputs": [],
   "source": [
    "x = tf.placeholder(tf.float32, shape=[None, 18])\n",
    "y_ = tf.placeholder(tf.float32, shape=[None, 3])"
   ]
  },
  {
   "cell_type": "markdown",
   "metadata": {},
   "source": [
    "## Model, initialize weights and bias"
   ]
  },
  {
   "cell_type": "code",
   "execution_count": 7,
   "metadata": {
    "collapsed": true
   },
   "outputs": [],
   "source": [
    "def weight_variable(shape):\n",
    "  initial = tf.truncated_normal(shape, stddev=0.1)\n",
    "  return tf.Variable(initial)\n",
    "\n",
    "def bias_variable(shape):\n",
    "  initial = tf.constant(0.1, shape=shape)\n",
    "  return tf.Variable(initial)"
   ]
  },
  {
   "cell_type": "markdown",
   "metadata": {},
   "source": [
    "## Model, define layers"
   ]
  },
  {
   "cell_type": "code",
   "execution_count": 8,
   "metadata": {
    "collapsed": true
   },
   "outputs": [],
   "source": [
    "W_1 = weight_variable([18, 12])\n",
    "b_1 = bias_variable([12])\n",
    "h_1 = tf.nn.relu(tf.matmul(x, W_1) + b_1)"
   ]
  },
  {
   "cell_type": "code",
   "execution_count": 10,
   "metadata": {
    "collapsed": false
   },
   "outputs": [],
   "source": [
    "W_2 = weight_variable([12, 6])\n",
    "b_2 = bias_variable([6])\n",
    "h_2 = tf.nn.relu(tf.matmul(h_1, W_2) + b_2)"
   ]
  },
  {
   "cell_type": "code",
   "execution_count": 11,
   "metadata": {
    "collapsed": true
   },
   "outputs": [],
   "source": [
    "keep_prob = tf.placeholder(tf.float32)\n",
    "h_2_drop = tf.nn.dropout(h_2, keep_prob)"
   ]
  },
  {
   "cell_type": "code",
   "execution_count": 13,
   "metadata": {
    "collapsed": true
   },
   "outputs": [],
   "source": [
    "W_3 = weight_variable([6, 3])\n",
    "b_3 = bias_variable([3])\n",
    "y = tf.matmul(h_2_drop, W_3) + b_3"
   ]
  },
  {
   "cell_type": "markdown",
   "metadata": {},
   "source": [
    "## Model, define cost and optimizer, then train"
   ]
  },
  {
   "cell_type": "code",
   "execution_count": 213,
   "metadata": {
    "collapsed": false
   },
   "outputs": [
    {
     "data": {
      "text/plain": [
       "0.85262561"
      ]
     },
     "execution_count": 213,
     "metadata": {},
     "output_type": "execute_result"
    }
   ],
   "source": [
    "cross_entropy = tf.reduce_mean(tf.nn.softmax_cross_entropy_with_logits(y, y_))\n",
    "train_step = tf.train.AdamOptimizer(0.0002,0.9,0.999,1e-8).minimize(cross_entropy)\n",
    "sess.run(tf.global_variables_initializer())\n",
    "for i in range(1000):\n",
    "    shuffle_index_batch = np.random.permutation(range(train_inputs_set.shape[0]))[0:100]\n",
    "    train_inputs_batch = train_inputs_set[shuffle_index_batch]\n",
    "    train_target_batch = train_target_set[shuffle_index_batch]\n",
    "    #train_step.run(feed_dict={x: train_inputs_batch, y_: train_target_batch})\n",
    "    [_, loss] = sess.run([train_step, cross_entropy],\n",
    "                           feed_dict={x: train_inputs_batch, y_: train_target_batch})\n",
    "    #print '%s' % loss\n",
    "loss"
   ]
  },
  {
   "cell_type": "markdown",
   "metadata": {},
   "source": [
    "## Model, evaluate performance"
   ]
  },
  {
   "cell_type": "code",
   "execution_count": 214,
   "metadata": {
    "collapsed": false
   },
   "outputs": [
    {
     "name": "stdout",
     "output_type": "stream",
     "text": [
      "0.731707\n"
     ]
    }
   ],
   "source": [
    "correct_prediction = tf.equal(tf.argmax(y,1), tf.argmax(y_,1))\n",
    "accuracy = tf.reduce_mean(tf.cast(correct_prediction, tf.float32))\n",
    "print(accuracy.eval(feed_dict={x: tests_inputs_set, y_: tests_target_set}))"
   ]
  },
  {
   "cell_type": "markdown",
   "metadata": {},
   "source": [
    "# GameNet (Hartford et al 2016)"
   ]
  },
  {
   "cell_type": "markdown",
   "metadata": {},
   "source": [
    "## Still to do\n",
    "- Write model after FFNet performance satisfactory"
   ]
  },
  {
   "cell_type": "markdown",
   "metadata": {},
   "source": [
    "## Model, define layers"
   ]
  },
  {
   "cell_type": "markdown",
   "metadata": {},
   "source": [
    "### Input\n",
    "\n",
    "The input is $ 2 $ matricies  \n",
    "where one is the row player payoff matrix  \n",
    "where the other is the column player payoff matrix  \n",
    "\n",
    "### Hidden layer 1\n",
    "\n",
    "The first hidden layer is $ 50 $ matricies in the form  \n",
    "\n",
    "$$ H_{1,k} = relu(w_i U_i + b) $$  \n",
    "where $ i $ ranges over the set {1, ... 6}  \n",
    "where $ k $ ranges over the set {1, ... 50}  \n",
    "where $ U_1 $ is the row player payoff matrix  \n",
    "where $ U_2 $ is the row player payoff matrix after column-wise pooling  \n",
    "where $ U_3 $ is the row player payoff matrix after row-wise pooling  \n",
    "where $ U_4 $ is the column player payoff matrix  \n",
    "where $ U_5 $ is the column player payoff matrix after column-wise pooling  \n",
    "where $ U_6 $ is the column player payoff matrix after row-wise pooling  \n",
    "\n",
    "### Hidden layer 2\n",
    "\n",
    "The second hidden feature layer is $ 50 $ matricies in the form  \n",
    "\n",
    "$$ H_{2,k} = relu(w_i H_i + b) $$  \n",
    "where $ i $ ranges over the set {1, ... 150}  \n",
    "where $ k $ ranges over the set {1, ... 50}  \n",
    "where $ H_1 $ is $ H_{1,1} $  \n",
    "where $ H_2 $ is $ H_{1,1} $ after column-wise pooling  \n",
    "where $ H_3 $ is $ H_{1,1} $ after row-wise pooling  \n",
    "where $ H_4 $ is $ H_{1,2} $    \n",
    "...  \n",
    "where $ H_{150} $ is $ H_{1,50} $ after row-wise pooling\n",
    "\n",
    "### Action response layer 0\n",
    "\n",
    "The zeroth action response layer is a mixture of distributions in the form  \n",
    "\n",
    "$$ R_0 = w_i f_i $$  \n",
    "where $ i $ ranges over the set {1, ... 50}  \n",
    "where $ f_i = softmax(H_i z) $  \n",
    "where $ H_1 $ is $ H_{2,1} $  \n",
    "...  \n",
    "where $ H_{50} $ is $ H_{2,50} $  \n",
    "where $ z $ is a column vector of ones\n",
    "\n",
    "### Action response layer 1\n",
    "\n",
    "The first action response layer is a mixture of distributions in the form  \n",
    "\n",
    "$$ R_1 = softmax(\\lambda(v_j ((w_i H_i) \\cdot R^c_0))) $$  \n",
    "where $ i $ ranges over the set {1, ... 50}  \n",
    "where $ j $ ranges over the set {0, ... 0}  \n",
    "where $ H_1 $ is $ H_{2,1} $  \n",
    "...  \n",
    "where $ H_{50} $ is $ H_{2,50} $  \n",
    "where $ R^c_0 $ is the column player zeroth action response layer  \n",
    "\n",
    "### Output\n",
    "\n",
    "The output is a mixture of distributions in the form  \n",
    "\n",
    "$$ y = w_i R_i $$  \n",
    "where $ i $ ranges over the set {0, ... 1}  "
   ]
  },
  {
   "cell_type": "markdown",
   "metadata": {},
   "source": [
    "## Model, define optimizer"
   ]
  },
  {
   "cell_type": "markdown",
   "metadata": {},
   "source": [
    "- Adam optimizer\n",
    "    - initial learning rate = $ 0.0002 $\n",
    "    - $ \\beta_1 = 0.9 $\n",
    "    - $ \\beta_2 = 0.999 $\n",
    "    - $ \\epsilon = 1e-8 $\n",
    "- Dropout\n",
    "    - drop probability = $ 0.2 $\n",
    "- Other regularization\n",
    "    - $ L_1 $ regularization parameter = $ 0.01 $\n",
    "- Training steps\n",
    "    - $ 25000 $ epochs\n",
    "- Gradient\n",
    "    - Projected gradient descent"
   ]
  },
  {
   "cell_type": "markdown",
   "metadata": {},
   "source": [
    "## Model, evaluate performance"
   ]
  },
  {
   "cell_type": "markdown",
   "metadata": {},
   "source": [
    "- 10-fold-cross-validation"
   ]
  }
 ],
 "metadata": {
  "kernelspec": {
   "display_name": "Python 2",
   "language": "python",
   "name": "python2"
  },
  "language_info": {
   "codemirror_mode": {
    "name": "ipython",
    "version": 2
   },
   "file_extension": ".py",
   "mimetype": "text/x-python",
   "name": "python",
   "nbconvert_exporter": "python",
   "pygments_lexer": "ipython2",
   "version": "2.7.8"
  },
  "widgets": {
   "state": {},
   "version": "1.1.2"
  }
 },
 "nbformat": 4,
 "nbformat_minor": 0
}
