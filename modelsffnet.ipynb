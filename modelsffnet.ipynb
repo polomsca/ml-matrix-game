{
 "cells": [
  {
   "cell_type": "markdown",
   "metadata": {},
   "source": [
    "# FFNet (Hartford et al 2016)"
   ]
  },
  {
   "cell_type": "markdown",
   "metadata": {},
   "source": [
    "## Session"
   ]
  },
  {
   "cell_type": "markdown",
   "metadata": {},
   "source": [
    "### Start"
   ]
  },
  {
   "cell_type": "code",
   "execution_count": 1,
   "metadata": {
    "collapsed": true
   },
   "outputs": [],
   "source": [
    "import tensorflow as tf\n",
    "import numpy as np\n",
    "import pandas as pd\n",
    "sess = tf.InteractiveSession()"
   ]
  },
  {
   "cell_type": "markdown",
   "metadata": {},
   "source": [
    "## Data"
   ]
  },
  {
   "cell_type": "markdown",
   "metadata": {},
   "source": [
    "### Augmentation"
   ]
  },
  {
   "cell_type": "code",
   "execution_count": 2,
   "metadata": {
    "collapsed": false
   },
   "outputs": [],
   "source": [
    "p = [[[1,0,0],[0,1,0],[0,0,1]],[[1,0,0],[0,0,1],[0,1,0]],\n",
    "     [[0,1,0],[1,0,0],[0,0,1]],[[0,1,0],[0,0,1],[1,0,0]],\n",
    "     [[0,0,1],[1,0,0],[0,1,0]],[[0,0,1],[0,1,0],[1,0,0]]]"
   ]
  },
  {
   "cell_type": "markdown",
   "metadata": {},
   "source": [
    "### No augmentation"
   ]
  },
  {
   "cell_type": "code",
   "execution_count": 3,
   "metadata": {
    "collapsed": true
   },
   "outputs": [],
   "source": [
    "p = [[[1,0,0],[0,1,0],[0,0,1]],[[1,0,0],[0,1,0],[0,0,1]],\n",
    "     [[1,0,0],[0,1,0],[0,0,1]],[[1,0,0],[0,1,0],[0,0,1]],\n",
    "     [[1,0,0],[0,1,0],[0,0,1]],[[1,0,0],[0,1,0],[0,0,1]]]"
   ]
  },
  {
   "cell_type": "markdown",
   "metadata": {},
   "source": [
    "### By rows"
   ]
  },
  {
   "cell_type": "code",
   "execution_count": 4,
   "metadata": {
    "collapsed": false
   },
   "outputs": [],
   "source": [
    "import_csv = pd.read_csv(\"games3x3.csv\")\n",
    "inputs_set = np.zeros((import_csv.shape[0]*6,18))\n",
    "target_set = np.zeros((import_csv.shape[0]*6,3))\n",
    "for i in range(import_csv.shape[0]*6)[::6]:\n",
    "    a = np.matrix(import_csv['matrix'][i/6])\n",
    "    a = (a-np.mean(a))/np.std(a)\n",
    "    for j in range(6):\n",
    "        b = a*p[j]\n",
    "        c = np.array(b).flatten()\n",
    "        d = np.transpose(a)\n",
    "        e = d*p[j]\n",
    "        f = np.array(e).flatten()\n",
    "        inputs_set[i+j] = np.concatenate((c, f), axis=0)\n",
    "        target_set[i+j] = np.matrix(import_csv['choice'][i/6])"
   ]
  },
  {
   "cell_type": "markdown",
   "metadata": {},
   "source": [
    "### By rows and columns"
   ]
  },
  {
   "cell_type": "code",
   "execution_count": 5,
   "metadata": {
    "collapsed": true
   },
   "outputs": [],
   "source": [
    "for k in range(1,6):\n",
    "    inputs_tmp = np.zeros((import_csv.shape[0]*6,18))\n",
    "    target_tmp = np.zeros((import_csv.shape[0]*6,3))\n",
    "    for i in range(import_csv.shape[0]*6)[::6]:\n",
    "        a = p[k]*np.matrix(import_csv['matrix'][i/6])\n",
    "        a = (a-np.mean(a))/np.std(a)\n",
    "        for j in range(6):\n",
    "            b = a*p[j]\n",
    "            c = np.array(b).flatten()\n",
    "            d = np.transpose(a)\n",
    "            e = d*p[j]\n",
    "            f = np.array(e).flatten()\n",
    "            inputs_tmp[i+j] = np.concatenate((c, f), axis=0)\n",
    "            target_tmp[i+j] = np.transpose(p[k]*np.transpose(np.matrix(import_csv['choice'][i/6])))\n",
    "    inputs_set = np.concatenate((inputs_set, inputs_tmp), axis=0)\n",
    "    target_set = np.concatenate((target_set, target_tmp), axis=0)"
   ]
  },
  {
   "cell_type": "markdown",
   "metadata": {},
   "source": [
    "### Training and test sets"
   ]
  },
  {
   "cell_type": "code",
   "execution_count": 6,
   "metadata": {
    "collapsed": false
   },
   "outputs": [],
   "source": [
    "shuffle_index_set = np.random.permutation(range(inputs_set.shape[0]))"
   ]
  },
  {
   "cell_type": "code",
   "execution_count": 7,
   "metadata": {
    "collapsed": false
   },
   "outputs": [],
   "source": [
    "train_index_set = shuffle_index_set[0:inputs_set.shape[0]/5*4] \n",
    "tests_index_set = shuffle_index_set[inputs_set.shape[0]/5*4:inputs_set.shape[0]]\n",
    "train_inputs_set = inputs_set[train_index_set]\n",
    "train_target_set = target_set[train_index_set]\n",
    "tests_inputs_set = inputs_set[tests_index_set]\n",
    "tests_target_set = target_set[tests_index_set]"
   ]
  },
  {
   "cell_type": "markdown",
   "metadata": {},
   "source": [
    "## Model "
   ]
  },
  {
   "cell_type": "markdown",
   "metadata": {},
   "source": [
    "### Input and target layer"
   ]
  },
  {
   "cell_type": "code",
   "execution_count": 8,
   "metadata": {
    "collapsed": true
   },
   "outputs": [],
   "source": [
    "x = tf.placeholder(tf.float32, shape=[None, 18])\n",
    "y_ = tf.placeholder(tf.float32, shape=[None, 3])"
   ]
  },
  {
   "cell_type": "markdown",
   "metadata": {},
   "source": [
    "## Model"
   ]
  },
  {
   "cell_type": "markdown",
   "metadata": {},
   "source": [
    "### Weights and bias"
   ]
  },
  {
   "cell_type": "code",
   "execution_count": 9,
   "metadata": {
    "collapsed": true
   },
   "outputs": [],
   "source": [
    "def weight_variable(shape):\n",
    "    initial = tf.truncated_normal(shape, stddev=0.1)\n",
    "    return tf.Variable(initial)\n",
    "\n",
    "def bias_variable(shape):\n",
    "    initial = tf.constant(0.1, shape=shape)\n",
    "    return tf.Variable(initial)"
   ]
  },
  {
   "cell_type": "markdown",
   "metadata": {},
   "source": [
    "### Fully-connected layers"
   ]
  },
  {
   "cell_type": "code",
   "execution_count": 10,
   "metadata": {
    "collapsed": true
   },
   "outputs": [],
   "source": [
    "hi = 50"
   ]
  },
  {
   "cell_type": "code",
   "execution_count": 11,
   "metadata": {
    "collapsed": true
   },
   "outputs": [],
   "source": [
    "W_1 = weight_variable([18, hi])\n",
    "b_1 = bias_variable([hi])\n",
    "h_1 = tf.nn.relu(tf.matmul(x, W_1) + b_1)"
   ]
  },
  {
   "cell_type": "code",
   "execution_count": 12,
   "metadata": {
    "collapsed": false
   },
   "outputs": [],
   "source": [
    "W_2 = weight_variable([hi, hi])\n",
    "b_2 = bias_variable([hi])\n",
    "h_2 = tf.nn.relu(tf.matmul(h_1, W_2) + b_2)"
   ]
  },
  {
   "cell_type": "markdown",
   "metadata": {},
   "source": [
    "### Dropout\n",
    "- Drop probability = 0.2"
   ]
  },
  {
   "cell_type": "code",
   "execution_count": 13,
   "metadata": {
    "collapsed": true
   },
   "outputs": [],
   "source": [
    "keep_prob = tf.placeholder(tf.float32)\n",
    "h_2_drop = tf.nn.dropout(h_2, keep_prob)"
   ]
  },
  {
   "cell_type": "markdown",
   "metadata": {},
   "source": [
    "### Readout layer"
   ]
  },
  {
   "cell_type": "code",
   "execution_count": 14,
   "metadata": {
    "collapsed": true
   },
   "outputs": [],
   "source": [
    "W_3 = weight_variable([hi, 3])\n",
    "b_3 = bias_variable([3])\n",
    "y = tf.nn.softmax(tf.matmul(h_2_drop, W_3) + b_3)"
   ]
  },
  {
   "cell_type": "markdown",
   "metadata": {},
   "source": [
    "### Cost function"
   ]
  },
  {
   "cell_type": "markdown",
   "metadata": {},
   "source": [
    "#### $L_2$ regularization \n",
    "- $ \\beta = 0.01 $"
   ]
  },
  {
   "cell_type": "code",
   "execution_count": 15,
   "metadata": {
    "collapsed": false
   },
   "outputs": [],
   "source": [
    "beta = 0.01\n",
    "regularizer = tf.nn.l2_loss(W_1) + tf.nn.l2_loss(W_2) + tf.nn.l2_loss(W_3)\n",
    "cross_entropy = tf.reduce_mean(tf.nn.softmax_cross_entropy_with_logits(y, y_) + beta * regularizer)"
   ]
  },
  {
   "cell_type": "markdown",
   "metadata": {},
   "source": [
    "### Step"
   ]
  },
  {
   "cell_type": "markdown",
   "metadata": {},
   "source": [
    "#### Adam optimizer\n",
    "- initial learning rate = $ 0.0002 $\n",
    "- $ \\beta_1 = 0.9 $\n",
    "- $ \\beta_2 = 0.999 $\n",
    "- $ \\epsilon = 1e-8 $"
   ]
  },
  {
   "cell_type": "code",
   "execution_count": 16,
   "metadata": {
    "collapsed": false
   },
   "outputs": [],
   "source": [
    "train_step = tf.train.AdamOptimizer(0.0002,0.9,0.999,1e-8).minimize(cross_entropy)"
   ]
  },
  {
   "cell_type": "markdown",
   "metadata": {},
   "source": [
    "## Train"
   ]
  },
  {
   "cell_type": "code",
   "execution_count": 17,
   "metadata": {
    "collapsed": false
   },
   "outputs": [
    {
     "name": "stdout",
     "output_type": "stream",
     "text": [
      "step 0, train accuracy 0.51, train NLL 1.23575\n",
      "step 100, train accuracy 0.54, train NLL 1.17412\n",
      "step 200, train accuracy 0.72, train NLL 1.11571\n",
      "step 300, train accuracy 0.71, train NLL 1.07422\n",
      "step 400, train accuracy 0.77, train NLL 1.03909\n",
      "step 500, train accuracy 0.85, train NLL 0.99669\n",
      "step 600, train accuracy 0.91, train NLL 1.00545\n",
      "step 700, train accuracy 0.9, train NLL 0.975917\n",
      "step 800, train accuracy 0.96, train NLL 0.985765\n",
      "step 900, train accuracy 0.98, train NLL 0.968614\n",
      "step 1000, train accuracy 0.95, train NLL 1.00366\n",
      "step 1100, train accuracy 0.94, train NLL 0.983638\n",
      "step 1200, train accuracy 0.94, train NLL 0.984966\n",
      "step 1300, train accuracy 0.98, train NLL 0.950184\n",
      "step 1400, train accuracy 0.97, train NLL 0.950666\n",
      "step 1500, train accuracy 0.92, train NLL 0.968138\n",
      "step 1600, train accuracy 0.97, train NLL 0.981955\n",
      "step 1700, train accuracy 0.97, train NLL 0.961901\n",
      "step 1800, train accuracy 0.95, train NLL 0.968691\n",
      "step 1900, train accuracy 0.91, train NLL 0.990188\n",
      "step 2000, train accuracy 0.96, train NLL 0.948717\n",
      "step 2100, train accuracy 0.96, train NLL 0.955308\n",
      "step 2200, train accuracy 0.95, train NLL 0.960942\n",
      "step 2300, train accuracy 0.97, train NLL 0.976535\n",
      "step 2400, train accuracy 0.96, train NLL 0.94393\n"
     ]
    }
   ],
   "source": [
    "correct_prediction = tf.equal(tf.argmax(y,1), tf.argmax(y_,1))\n",
    "accuracy = tf.reduce_mean(tf.cast(correct_prediction, tf.float32))\n",
    "sess.run(tf.global_variables_initializer())\n",
    "for i in range(2500):\n",
    "    shuffle_index_batch = np.random.permutation(range(train_inputs_set.shape[0]))[0:100]\n",
    "    train_inputs_batch = train_inputs_set[shuffle_index_batch]\n",
    "    train_target_batch = train_target_set[shuffle_index_batch]\n",
    "    if i%100 == 0:\n",
    "        train_accuracy = accuracy.eval(feed_dict={x: train_inputs_batch, y_: train_target_batch, keep_prob: 1.0})\n",
    "        train_NLL = cross_entropy.eval(feed_dict={x: train_inputs_batch, y_: train_target_batch, keep_prob: 1.0})\n",
    "        print(\"step %d, train accuracy %g, train NLL %g\"%(i, train_accuracy, train_NLL))\n",
    "    train_step.run(feed_dict={x: train_inputs_batch, y_: train_target_batch, keep_prob: 0.8})"
   ]
  },
  {
   "cell_type": "markdown",
   "metadata": {},
   "source": [
    "## Evaluate"
   ]
  },
  {
   "cell_type": "code",
   "execution_count": 18,
   "metadata": {
    "collapsed": false
   },
   "outputs": [
    {
     "name": "stdout",
     "output_type": "stream",
     "text": [
      "test accuracy 0.924797, test NLL 0.968673\n"
     ]
    }
   ],
   "source": [
    "test_accuracy = accuracy.eval(feed_dict={x: tests_inputs_set, y_: tests_target_set, keep_prob: 1.0})\n",
    "test_NLL = cross_entropy.eval(feed_dict={x: tests_inputs_set, y_: tests_target_set, keep_prob: 1.0})\n",
    "print(\"test accuracy %g, test NLL %g\"%(test_accuracy, test_NLL))"
   ]
  },
  {
   "cell_type": "code",
   "execution_count": 19,
   "metadata": {
    "collapsed": false
   },
   "outputs": [
    {
     "data": {
      "text/plain": [
       "array([[ 0.8980031 ,  0.01143877,  0.09055815],\n",
       "       [ 0.55918431,  0.00892323,  0.43189245],\n",
       "       [ 0.65178853,  0.01931819,  0.32889321],\n",
       "       ..., \n",
       "       [ 0.95829874,  0.0060634 ,  0.03563783],\n",
       "       [ 0.58665484,  0.33894208,  0.07440313],\n",
       "       [ 0.86362469,  0.08052094,  0.05585435]], dtype=float32)"
      ]
     },
     "execution_count": 19,
     "metadata": {},
     "output_type": "execute_result"
    }
   ],
   "source": [
    "y.eval(feed_dict={x: tests_inputs_set, y_: tests_target_set, keep_prob: 1.0})"
   ]
  },
  {
   "cell_type": "code",
   "execution_count": 20,
   "metadata": {
    "collapsed": false
   },
   "outputs": [
    {
     "data": {
      "text/plain": [
       "array([[ 0.64999998,  0.04      ,  0.31      ],\n",
       "       [ 0.47999999,  0.01333333,  0.50666666],\n",
       "       [ 0.51127821,  0.18045112,  0.30827066],\n",
       "       ..., \n",
       "       [ 0.84020621,  0.03092784,  0.12886597],\n",
       "       [ 0.32333332,  0.49666667,  0.18000001],\n",
       "       [ 0.75773197,  0.14948453,  0.0927835 ]], dtype=float32)"
      ]
     },
     "execution_count": 20,
     "metadata": {},
     "output_type": "execute_result"
    }
   ],
   "source": [
    "y_.eval(feed_dict={x: tests_inputs_set, y_: tests_target_set, keep_prob: 1.0})"
   ]
  }
 ],
 "metadata": {
  "kernelspec": {
   "display_name": "Python 2",
   "language": "python",
   "name": "python2"
  },
  "language_info": {
   "codemirror_mode": {
    "name": "ipython",
    "version": 2
   },
   "file_extension": ".py",
   "mimetype": "text/x-python",
   "name": "python",
   "nbconvert_exporter": "python",
   "pygments_lexer": "ipython2",
   "version": "2.7.8"
  },
  "widgets": {
   "state": {},
   "version": "1.1.2"
  }
 },
 "nbformat": 4,
 "nbformat_minor": 0
}
